{
 "cells": [
  {
   "cell_type": "markdown",
   "id": "d924817d",
   "metadata": {},
   "source": [
    "# This package provides a three dimensional data structure, building on dask dataframes and delayed objects.\n",
    "The main class is `DataSet` and it should be used for embarrassingly parallel computations on a large number of dataframes. Rather than a full replacement for the dask api, this is intended to be an extension, with particular focus on financial timeseries data."
   ]
  },
  {
   "cell_type": "code",
   "execution_count": 1,
   "id": "169576ac",
   "metadata": {},
   "outputs": [],
   "source": [
    "import sys"
   ]
  },
  {
   "cell_type": "code",
   "execution_count": 2,
   "id": "e43769d1",
   "metadata": {},
   "outputs": [],
   "source": [
    "sys.path.append(\"..\")"
   ]
  },
  {
   "cell_type": "code",
   "execution_count": 3,
   "id": "331e0ee1",
   "metadata": {},
   "outputs": [],
   "source": [
    "import os\n",
    "import pandas as pd\n",
    "import dataprep as dp\n",
    "import pandas_market_calendars as mcal"
   ]
  },
  {
   "cell_type": "code",
   "execution_count": 4,
   "id": "0f106734",
   "metadata": {},
   "outputs": [],
   "source": [
    "pd.options.display.notebook_repr_html = False"
   ]
  },
  {
   "cell_type": "markdown",
   "id": "22c2c3e7",
   "metadata": {},
   "source": [
    "## Read Data and Basic Properties"
   ]
  },
  {
   "cell_type": "code",
   "execution_count": 5,
   "id": "2ba86d0e",
   "metadata": {
    "scrolled": true
   },
   "outputs": [],
   "source": [
    "data = dp.from_files(\"sample_data\", name= lambda p: p.split(\"_\")[0], dtindex= \"date\")\n",
    "\n",
    "data = data.set_timezone(\"America/New_York\")"
   ]
  },
  {
   "cell_type": "code",
   "execution_count": 6,
   "id": "9848eed2",
   "metadata": {
    "scrolled": true
   },
   "outputs": [
    {
     "data": {
      "text/plain": [
       "Index(['AAPL', 'AMZN', 'NVDA'], dtype='object')"
      ]
     },
     "execution_count": 6,
     "metadata": {},
     "output_type": "execute_result"
    }
   ],
   "source": [
    "data.symbols"
   ]
  },
  {
   "cell_type": "code",
   "execution_count": 7,
   "id": "3690c0b2",
   "metadata": {},
   "outputs": [
    {
     "data": {
      "text/plain": [
       "Timedelta('0 days 00:30:00')"
      ]
     },
     "execution_count": 7,
     "metadata": {},
     "output_type": "execute_result"
    }
   ],
   "source": [
    "data.frequency"
   ]
  },
  {
   "cell_type": "code",
   "execution_count": 8,
   "id": "7054edfc",
   "metadata": {},
   "outputs": [
    {
     "data": {
      "text/plain": [
       "<DstTzInfo 'America/New_York' LMT-1 day, 19:04:00 STD>"
      ]
     },
     "execution_count": 8,
     "metadata": {},
     "output_type": "execute_result"
    }
   ],
   "source": [
    "data.timezone"
   ]
  },
  {
   "cell_type": "code",
   "execution_count": 9,
   "id": "f1461131",
   "metadata": {
    "scrolled": true
   },
   "outputs": [
    {
     "data": {
      "text/plain": [
       "Index(['AAPL', 'AMZN', 'NVDA'], dtype='object')"
      ]
     },
     "execution_count": 9,
     "metadata": {},
     "output_type": "execute_result"
    }
   ],
   "source": [
    "data.symbols"
   ]
  },
  {
   "cell_type": "code",
   "execution_count": 10,
   "id": "06d68b1e",
   "metadata": {},
   "outputs": [
    {
     "data": {
      "text/plain": [
       "Index(['open', 'high', 'low', 'close', 'volume'], dtype='object')"
      ]
     },
     "execution_count": 10,
     "metadata": {},
     "output_type": "execute_result"
    }
   ],
   "source": [
    "data.columns"
   ]
  },
  {
   "cell_type": "code",
   "execution_count": 11,
   "id": "b1ef05c3",
   "metadata": {
    "scrolled": true
   },
   "outputs": [
    {
     "data": {
      "text/plain": [
       "False"
      ]
     },
     "execution_count": 11,
     "metadata": {},
     "output_type": "execute_result"
    }
   ],
   "source": [
    "data.all_indexes_equal"
   ]
  },
  {
   "cell_type": "code",
   "execution_count": 12,
   "id": "02282a13",
   "metadata": {},
   "outputs": [
    {
     "data": {
      "text/plain": [
       "                             0                         1\n",
       "AAPL 2020-01-02 04:00:00-05:00 2020-01-15 19:30:00-05:00\n",
       "AMZN 2020-01-02 04:00:00-05:00 2020-01-15 19:30:00-05:00\n",
       "NVDA 2020-01-02 04:00:00-05:00 2020-01-15 19:30:00-05:00"
      ]
     },
     "execution_count": 12,
     "metadata": {},
     "output_type": "execute_result"
    }
   ],
   "source": [
    "data.index_ranges # they all cover the same date ranges"
   ]
  },
  {
   "cell_type": "code",
   "execution_count": 13,
   "id": "591e2f67",
   "metadata": {},
   "outputs": [
    {
     "data": {
      "text/plain": [
       "        0  1\n",
       "AAPL  320  5\n",
       "AMZN  312  5\n",
       "NVDA  320  5"
      ]
     },
     "execution_count": 13,
     "metadata": {},
     "output_type": "execute_result"
    }
   ],
   "source": [
    "data.shapes # shape of each dataframe ... something is off about AMZN"
   ]
  },
  {
   "cell_type": "code",
   "execution_count": 14,
   "id": "fbefd943",
   "metadata": {},
   "outputs": [
    {
     "data": {
      "text/plain": [
       "((3, 5), (952, 5))"
      ]
     },
     "execution_count": 14,
     "metadata": {},
     "output_type": "execute_result"
    }
   ],
   "source": [
    "data.shape, data.fshape  # shape of the DataSet (symbols, columns), full shape of data (sum of rows, columns)"
   ]
  },
  {
   "cell_type": "markdown",
   "id": "0a6dcaa8",
   "metadata": {},
   "source": [
    "## Inspecting Price Data for Incomplete and Missing Sessions"
   ]
  },
  {
   "cell_type": "markdown",
   "id": "d152f856",
   "metadata": {},
   "source": [
    "The following methods need a schedule dataframe, as it is provided by the packages `pandas_market_calendars` and `exchange_calendars`."
   ]
  },
  {
   "cell_type": "code",
   "execution_count": 15,
   "id": "4420d687",
   "metadata": {},
   "outputs": [],
   "source": [
    "nyse = mcal.get_calendar(\"NYSE\").schedule(\"2020-01-01\", \"2020-01-20\", market_times= \"all\", tz= data.timezone)"
   ]
  },
  {
   "cell_type": "code",
   "execution_count": 16,
   "id": "5529494b",
   "metadata": {},
   "outputs": [
    {
     "data": {
      "text/plain": [
       "Empty DataFrame\n",
       "Columns: [missing_sessions]\n",
       "Index: []"
      ]
     },
     "execution_count": 16,
     "metadata": {},
     "output_type": "execute_result"
    }
   ],
   "source": [
    "missing = data.missing_sessions(nyse)\n",
    "\n",
    "missing.compute() # There are no sessions that are missing entirely..."
   ]
  },
  {
   "cell_type": "code",
   "execution_count": 17,
   "id": "761abe27",
   "metadata": {},
   "outputs": [
    {
     "data": {
      "text/plain": [
       "                                     incomplete_sessions\n",
       "AMZN 2020-01-09 04:00:00-05:00 2020-01-09 04:00:00-05:00\n",
       "     2020-01-10 04:00:00-05:00 2020-01-10 04:00:00-05:00\n",
       "     2020-01-15 04:00:00-05:00 2020-01-15 04:00:00-05:00"
      ]
     },
     "execution_count": 17,
     "metadata": {},
     "output_type": "execute_result"
    }
   ],
   "source": [
    "incomp = data.incomplete_sessions(nyse)\n",
    "\n",
    "incomp.compute() # But AMZN has three incomplete sessions"
   ]
  },
  {
   "cell_type": "code",
   "execution_count": 18,
   "id": "53490a3c",
   "metadata": {},
   "outputs": [
    {
     "data": {
      "text/plain": [
       "                                         missing_indexes\n",
       "AMZN 2020-01-09 04:00:00-05:00 2020-01-09 04:00:00-05:00\n",
       "     2020-01-09 04:30:00-05:00 2020-01-09 04:30:00-05:00\n",
       "     2020-01-10 04:00:00-05:00 2020-01-10 04:00:00-05:00\n",
       "     2020-01-10 04:30:00-05:00 2020-01-10 04:30:00-05:00\n",
       "     2020-01-10 05:00:00-05:00 2020-01-10 05:00:00-05:00\n",
       "     2020-01-10 05:30:00-05:00 2020-01-10 05:30:00-05:00\n",
       "     2020-01-10 06:00:00-05:00 2020-01-10 06:00:00-05:00\n",
       "     2020-01-15 04:00:00-05:00 2020-01-15 04:00:00-05:00"
      ]
     },
     "execution_count": 18,
     "metadata": {},
     "output_type": "execute_result"
    }
   ],
   "source": [
    "missing = data.missing_indexes(nyse)\n",
    "\n",
    "# These are the indexes that should exist according to NYSE's schedule, \n",
    "missing.compute()"
   ]
  },
  {
   "cell_type": "code",
   "execution_count": 19,
   "id": "07c60770",
   "metadata": {
    "scrolled": false
   },
   "outputs": [
    {
     "data": {
      "text/plain": [
       "        0  0\n",
       "AAPL  320  0\n",
       "AMZN  312  8\n",
       "NVDA  320  0"
      ]
     },
     "execution_count": 19,
     "metadata": {},
     "output_type": "execute_result"
    }
   ],
   "source": [
    "# This explains the difference between the shapes\n",
    "pd.concat([data.shapes[0], missing.shapes[0]], axis= 1)"
   ]
  },
  {
   "cell_type": "markdown",
   "id": "9e2ba574",
   "metadata": {},
   "source": [
    "### Fill the data to have complete indexes\n",
    "\n",
    "`DataSet.ffill_sessions` will use `pd.DataFrame.ffill` in a way that all indexes\n",
    "that should exist according to NYSE's schedule are represented with the previous index's value."
   ]
  },
  {
   "cell_type": "code",
   "execution_count": 20,
   "id": "9107bcd1",
   "metadata": {
    "scrolled": true
   },
   "outputs": [
    {
     "name": "stdout",
     "output_type": "stream",
     "text": [
      "True\n"
     ]
    },
    {
     "data": {
      "text/plain": [
       "        0  1\n",
       "AAPL  320  5\n",
       "AMZN  320  5\n",
       "NVDA  320  5"
      ]
     },
     "execution_count": 20,
     "metadata": {},
     "output_type": "execute_result"
    }
   ],
   "source": [
    "filled = data.ffill_sessions(nyse) \n",
    "print(filled.all_indexes_equal)\n",
    "filled.shapes"
   ]
  },
  {
   "cell_type": "markdown",
   "id": "94d3b589",
   "metadata": {},
   "source": [
    "## Apply Any Python Function\n",
    "\n",
    "There are two options:\n",
    "\n",
    "    * If the function returns a pandas object, call the DataSet directly.\n",
    "    * If not, use .apply."
   ]
  },
  {
   "cell_type": "code",
   "execution_count": 21,
   "id": "b01904da",
   "metadata": {},
   "outputs": [],
   "source": [
    "# This returns a pd.Series\n",
    "def av_pre_volume(d):\n",
    "    d = d[(d.index - d.index.normalize()) < pd.Timedelta(\"9.5H\")]\n",
    "    return d[\"volume\"].groupby(d.index.normalize()).mean()"
   ]
  },
  {
   "cell_type": "code",
   "execution_count": 22,
   "id": "10138b5a",
   "metadata": {},
   "outputs": [],
   "source": [
    "av_pre_vol = filled(av_pre_volume)"
   ]
  },
  {
   "cell_type": "markdown",
   "id": "30f467ac",
   "metadata": {},
   "source": [
    "`DataSet.__call__` will return a `DataSet` object. If the return value of the passed function is one dimensional, it will be converted to a `DataFrame` to make it fit into a `DataSet`. So far, there is no specific support for `pd.Index` or `pd.Series`."
   ]
  },
  {
   "cell_type": "code",
   "execution_count": 23,
   "id": "7cdb3829",
   "metadata": {
    "scrolled": true
   },
   "outputs": [
    {
     "data": {
      "text/plain": [
       "\n",
       "                                     volume\n",
       "AAPL 2020-01-02 00:00:00-05:00  1654.090909\n",
       "     2020-01-03 00:00:00-05:00  3615.454545\n",
       "AMZN 2020-01-02 00:00:00-05:00   565.727273\n",
       "     2020-01-03 00:00:00-05:00  1043.545455\n",
       "NVDA 2020-01-02 00:00:00-05:00   283.909091\n",
       "     2020-01-03 00:00:00-05:00   359.363636"
      ]
     },
     "execution_count": 23,
     "metadata": {},
     "output_type": "execute_result"
    }
   ],
   "source": [
    "av_pre_vol"
   ]
  },
  {
   "cell_type": "code",
   "execution_count": 24,
   "id": "d8102c21",
   "metadata": {},
   "outputs": [],
   "source": [
    "# This returns a scalar\n",
    "def av_pre_volume(d):\n",
    "    pre = (d.index - d.index.normalize()) < pd.Timedelta(\"9.5H\")\n",
    "    return d.loc[pre, \"volume\"].mean()"
   ]
  },
  {
   "cell_type": "code",
   "execution_count": 25,
   "id": "1254bd37",
   "metadata": {},
   "outputs": [],
   "source": [
    "av_pre_vol = filled.apply(av_pre_volume)"
   ]
  },
  {
   "cell_type": "markdown",
   "id": "fc79d02d",
   "metadata": {},
   "source": [
    "`DataSet.apply` will return a `Data` object, which doesn't have most of the features that a `DataSet` has because \n",
    "it doesn't assume that it will deal with pandas objects."
   ]
  },
  {
   "cell_type": "code",
   "execution_count": 26,
   "id": "2a8438a1",
   "metadata": {
    "scrolled": true
   },
   "outputs": [
    {
     "data": {
      "text/plain": [
       "{'AAPL': 2130.2363636363634, 'AMZN': 474.4818181818182, 'NVDA': 259.4}"
      ]
     },
     "execution_count": 26,
     "metadata": {},
     "output_type": "execute_result"
    }
   ],
   "source": [
    "av_pre_vol.compute()"
   ]
  },
  {
   "cell_type": "markdown",
   "id": "92d60b8e",
   "metadata": {},
   "source": [
    "If you pass this to the DataSet directly it will raise an error when the delayed object is computed."
   ]
  },
  {
   "cell_type": "code",
   "execution_count": 27,
   "id": "0fea5ac1",
   "metadata": {},
   "outputs": [
    {
     "name": "stdout",
     "output_type": "stream",
     "text": [
      "`func` needs to return a pandas object, otherwise use .apply\n"
     ]
    }
   ],
   "source": [
    "try:\n",
    "    filled(av_pre_volume).compute()\n",
    "except AssertionError as e:\n",
    "    print(e)"
   ]
  },
  {
   "cell_type": "markdown",
   "id": "02914fd1",
   "metadata": {},
   "source": [
    "## Match Data with Different Frequencies"
   ]
  },
  {
   "cell_type": "code",
   "execution_count": 28,
   "id": "f67c853d",
   "metadata": {},
   "outputs": [
    {
     "data": {
      "text/plain": [
       "Timedelta('1 days 00:00:00')"
      ]
     },
     "execution_count": 28,
     "metadata": {},
     "output_type": "execute_result"
    }
   ],
   "source": [
    "# For demonstration, convert the data to a daily frequency\n",
    "def todaily(d):\n",
    "    return d.resample(\"1D\", origin= \"start\").agg(\n",
    "        {\"open\": \"first\", \"high\": \"max\", \"low\": \"min\", \"close\": \"last\", \"volume\": \"sum\"}).dropna()\n",
    "\n",
    "daily = filled(todaily)\n",
    "\n",
    "daily.frequency"
   ]
  },
  {
   "cell_type": "code",
   "execution_count": 29,
   "id": "79a655c2",
   "metadata": {
    "scrolled": false
   },
   "outputs": [
    {
     "data": {
      "text/plain": [
       "                                 open   high    low  close     volume\n",
       "AAPL 2020-01-02 04:00:00-05:00  73.76  75.30  73.76  75.30  1168200.0\n",
       "     2020-01-03 04:00:00-05:00  74.34  75.14  73.60  74.33  1271678.0\n",
       "     2020-01-06 04:00:00-05:00  73.86  74.99  73.19  74.91  1007688.0\n",
       "     2020-01-07 04:00:00-05:00  75.12  75.23  73.00  73.15   916430.0\n",
       "     2020-01-08 04:00:00-05:00  74.13  76.11  74.13  76.00  1128600.0\n",
       "     2020-01-09 04:00:00-05:00  76.30  77.61  76.26  77.60  1483274.0\n",
       "     2020-01-10 04:00:00-05:00  77.81  78.17  77.06  77.67  1221207.0\n",
       "     2020-01-13 04:00:00-05:00  77.88  79.70  77.79  79.70  1051003.0\n",
       "     2020-01-14 04:00:00-05:00  79.13  79.44  77.70  77.94  1394565.0\n",
       "     2020-01-15 04:00:00-05:00  77.97  78.88  77.39  78.05  1032766.0\n",
       "AMZN 2020-01-02 04:00:00-05:00  93.21  95.02  92.39  94.99   487803.0\n",
       "     2020-01-03 04:00:00-05:00  93.50  94.31  93.00  93.57   405417.0\n",
       "     2020-01-06 04:00:00-05:00  92.99  95.18  92.67  95.08   481008.0\n",
       "     2020-01-07 04:00:00-05:00  95.46  95.69  92.75  93.15   470907.0\n",
       "     2020-01-08 04:00:00-05:00  94.80  95.58  94.32  94.78   400591.0\n",
       "     2020-01-09 04:00:00-05:00  94.78  95.89  94.78  95.17   378158.0\n",
       "     2020-01-10 04:00:00-05:00  95.09  95.40  94.00  94.06   336750.0\n",
       "     2020-01-13 04:00:00-05:00  94.48  94.90  94.04  94.63   324663.0\n",
       "     2020-01-14 04:00:00-05:00  94.25  94.61  92.93  93.25   384719.0\n",
       "     2020-01-15 04:00:00-05:00  93.25  93.94  92.75  93.24   317252.0\n",
       "NVDA 2020-01-02 04:00:00-05:00  59.26  60.10  59.18  60.01   180489.0\n",
       "     2020-01-03 04:00:00-05:00  59.13  59.46  58.04  59.02   157305.0\n",
       "     2020-01-06 04:00:00-05:00  58.25  59.35  57.69  59.35   209028.0\n",
       "     2020-01-07 04:00:00-05:00  59.55  60.44  57.63  57.88   258745.0\n",
       "     2020-01-08 04:00:00-05:00  59.33  60.51  59.33  60.25   224926.0\n",
       "     2020-01-09 04:00:00-05:00  60.63  61.48  60.21  60.93   203703.0\n",
       "     2020-01-10 04:00:00-05:00  61.22  62.14  60.94  61.08   253594.0\n",
       "     2020-01-13 04:00:00-05:00  61.72  63.25  61.52  63.20   257304.0\n",
       "     2020-01-14 04:00:00-05:00  62.93  63.22  61.67  61.68   286669.0\n",
       "     2020-01-15 04:00:00-05:00  61.88  62.75  61.13  61.54   203550.0"
      ]
     },
     "execution_count": 29,
     "metadata": {},
     "output_type": "execute_result"
    }
   ],
   "source": [
    "daily.compute()"
   ]
  },
  {
   "cell_type": "code",
   "execution_count": 30,
   "id": "495fbbc8",
   "metadata": {},
   "outputs": [],
   "source": [
    "# Create demo data\n",
    "data = dict(revcost= range(4), revenue= range(4, 8))\n",
    "ix = lambda x: pd.DatetimeIndex(x).tz_localize(daily.timezone)\n",
    "funds = dict(\n",
    "    AAPL = pd.DataFrame(data, index= ix([\"2020-01-03\", \"2020-01-07\", \"2020-01-11\", \"2020-01-14\"])),\n",
    "    NVDA = pd.DataFrame(data, index= ix([\"2020-01-01\", \"2020-01-05\", \"2020-01-05\", \"2020-01-12\"])),\n",
    "    AMZN = pd.DataFrame(data, index= ix([\"2020-01-06\", \"2020-01-08 14:30:00\", \"2020-01-09\", \"2020-01-13\"]))\n",
    ")"
   ]
  },
  {
   "cell_type": "code",
   "execution_count": 31,
   "id": "3ec505ea",
   "metadata": {
    "scrolled": true
   },
   "outputs": [
    {
     "data": {
      "text/plain": [
       "                                revcost  revenue\n",
       "AAPL 2020-01-03 00:00:00-05:00        0        4\n",
       "     2020-01-07 00:00:00-05:00        1        5\n",
       "     2020-01-11 00:00:00-05:00        2        6\n",
       "     2020-01-14 00:00:00-05:00        3        7\n",
       "NVDA 2020-01-01 00:00:00-05:00        0        4\n",
       "     2020-01-05 00:00:00-05:00        1        5\n",
       "     2020-01-05 00:00:00-05:00        2        6\n",
       "     2020-01-12 00:00:00-05:00        3        7\n",
       "AMZN 2020-01-06 00:00:00-05:00        0        4\n",
       "     2020-01-08 14:30:00-05:00        1        5\n",
       "     2020-01-09 00:00:00-05:00        2        6\n",
       "     2020-01-13 00:00:00-05:00        3        7"
      ]
     },
     "execution_count": 31,
     "metadata": {},
     "output_type": "execute_result"
    }
   ],
   "source": [
    "funds = dp.from_pandas(funds)\n",
    "\n",
    "funds.compute()"
   ]
  },
  {
   "cell_type": "markdown",
   "id": "761178b6",
   "metadata": {},
   "source": [
    "The `DataSet.match` method expects a `DataSet` as first argument and will match the data of the caller to the indexes of the passed DataSet, which requires matching symbols. There are multiple keyword arguments that allow you to control the way the data is matched."
   ]
  },
  {
   "cell_type": "code",
   "execution_count": 32,
   "id": "0b53e422",
   "metadata": {
    "scrolled": false
   },
   "outputs": [
    {
     "data": {
      "text/plain": [
       "                                revcost  revenue                    fromix\n",
       "AAPL 2020-01-03 04:00:00-05:00      0.0      4.0 2020-01-03 00:00:00-05:00\n",
       "     2020-01-07 04:00:00-05:00      1.0      5.0 2020-01-07 00:00:00-05:00\n",
       "     2020-01-13 04:00:00-05:00      2.0      6.0 2020-01-11 00:00:00-05:00\n",
       "     2020-01-14 04:00:00-05:00      3.0      7.0 2020-01-14 00:00:00-05:00\n",
       "NVDA 2020-01-02 04:00:00-05:00      0.0      4.0 2020-01-01 00:00:00-05:00\n",
       "     2020-01-06 04:00:00-05:00      2.0      6.0 2020-01-05 00:00:00-05:00\n",
       "     2020-01-13 04:00:00-05:00      3.0      7.0 2020-01-12 00:00:00-05:00\n",
       "AMZN 2020-01-06 04:00:00-05:00      0.0      4.0 2020-01-06 00:00:00-05:00\n",
       "     2020-01-09 04:00:00-05:00      2.0      6.0 2020-01-09 00:00:00-05:00\n",
       "     2020-01-13 04:00:00-05:00      3.0      7.0 2020-01-13 00:00:00-05:00"
      ]
     },
     "execution_count": 32,
     "metadata": {},
     "output_type": "execute_result"
    }
   ],
   "source": [
    "# fromix = True will add the index that the data is from as a column\n",
    "matched = funds.match(daily, fromix= True)\n",
    "\n",
    "matched.compute().dropna(how= \"all\")"
   ]
  },
  {
   "cell_type": "code",
   "execution_count": 33,
   "id": "09c7fb6a",
   "metadata": {
    "scrolled": true
   },
   "outputs": [
    {
     "data": {
      "text/plain": [
       "                                revcost  revenue                    fromix\n",
       "AAPL 2020-01-06 04:00:00-05:00      0.0      4.0 2020-01-03 00:00:00-05:00\n",
       "     2020-01-08 04:00:00-05:00      1.0      5.0 2020-01-07 00:00:00-05:00\n",
       "     2020-01-13 04:00:00-05:00      2.0      6.0 2020-01-11 00:00:00-05:00\n",
       "     2020-01-15 04:00:00-05:00      3.0      7.0 2020-01-14 00:00:00-05:00\n",
       "NVDA 2020-01-02 04:00:00-05:00      0.0      4.0 2020-01-01 00:00:00-05:00\n",
       "     2020-01-06 04:00:00-05:00      2.0      6.0 2020-01-05 00:00:00-05:00\n",
       "     2020-01-13 04:00:00-05:00      3.0      7.0 2020-01-12 00:00:00-05:00\n",
       "AMZN 2020-01-07 04:00:00-05:00      0.0      4.0 2020-01-06 00:00:00-05:00\n",
       "     2020-01-09 04:00:00-05:00      1.0      5.0 2020-01-08 14:30:00-05:00\n",
       "     2020-01-10 04:00:00-05:00      2.0      6.0 2020-01-09 00:00:00-05:00\n",
       "     2020-01-14 04:00:00-05:00      3.0      7.0 2020-01-13 00:00:00-05:00"
      ]
     },
     "execution_count": 33,
     "metadata": {},
     "output_type": "execute_result"
    }
   ],
   "source": [
    "# off= 1 will add one day to the data's index before matching, norm= True will also normalize it.\n",
    "matched = funds.match(daily, off= 1, norm= True, fromix= True)\n",
    "matched.compute().dropna(how= \"all\")"
   ]
  },
  {
   "cell_type": "code",
   "execution_count": 34,
   "id": "7f4045ad",
   "metadata": {
    "scrolled": true
   },
   "outputs": [
    {
     "data": {
      "text/plain": [
       "                                revcost  revenue                    fromix\n",
       "AAPL 2020-01-02 04:00:00-05:00      NaN      NaN                       NaT\n",
       "     2020-01-03 04:00:00-05:00      NaN      NaN                       NaT\n",
       "     2020-01-06 04:00:00-05:00      0.0      4.0 2020-01-03 00:00:00-05:00\n",
       "     2020-01-07 04:00:00-05:00      NaN      NaN                       NaT\n",
       "     2020-01-08 04:00:00-05:00      1.0      5.0 2020-01-07 00:00:00-05:00\n",
       "     2020-01-09 04:00:00-05:00      NaN      NaN                       NaT\n",
       "     2020-01-10 04:00:00-05:00      NaN      NaN                       NaT\n",
       "     2020-01-13 04:00:00-05:00      2.0      6.0 2020-01-11 00:00:00-05:00\n",
       "     2020-01-14 04:00:00-05:00      NaN      NaN                       NaT\n",
       "     2020-01-15 04:00:00-05:00      3.0      7.0 2020-01-14 00:00:00-05:00\n",
       "NVDA 2020-01-02 04:00:00-05:00      0.0      4.0 2020-01-01 00:00:00-05:00\n",
       "     2020-01-03 04:00:00-05:00      NaN      NaN                       NaT\n",
       "     2020-01-06 04:00:00-05:00      2.0      6.0 2020-01-05 00:00:00-05:00\n",
       "     2020-01-07 04:00:00-05:00      NaN      NaN                       NaT\n",
       "     2020-01-08 04:00:00-05:00      NaN      NaN                       NaT\n",
       "     2020-01-09 04:00:00-05:00      NaN      NaN                       NaT\n",
       "     2020-01-10 04:00:00-05:00      NaN      NaN                       NaT\n",
       "     2020-01-13 04:00:00-05:00      3.0      7.0 2020-01-12 00:00:00-05:00\n",
       "     2020-01-14 04:00:00-05:00      NaN      NaN                       NaT\n",
       "     2020-01-15 04:00:00-05:00      NaN      NaN                       NaT\n",
       "AMZN 2020-01-02 04:00:00-05:00      NaN      NaN                       NaT\n",
       "     2020-01-03 04:00:00-05:00      NaN      NaN                       NaT\n",
       "     2020-01-06 04:00:00-05:00      NaN      NaN                       NaT\n",
       "     2020-01-07 04:00:00-05:00      0.0      4.0 2020-01-06 00:00:00-05:00\n",
       "     2020-01-08 04:00:00-05:00      NaN      NaN                       NaT\n",
       "     2020-01-09 04:00:00-05:00      1.0      5.0 2020-01-08 14:30:00-05:00\n",
       "     2020-01-10 04:00:00-05:00      2.0      6.0 2020-01-09 00:00:00-05:00\n",
       "     2020-01-13 04:00:00-05:00      NaN      NaN                       NaT\n",
       "     2020-01-14 04:00:00-05:00      3.0      7.0 2020-01-13 00:00:00-05:00\n",
       "     2020-01-15 04:00:00-05:00      NaN      NaN                       NaT"
      ]
     },
     "execution_count": 34,
     "metadata": {},
     "output_type": "execute_result"
    }
   ],
   "source": [
    "matched.compute()"
   ]
  },
  {
   "cell_type": "code",
   "execution_count": 35,
   "id": "2258b782",
   "metadata": {},
   "outputs": [],
   "source": [
    "closes = daily[\"close\"]"
   ]
  },
  {
   "cell_type": "code",
   "execution_count": 36,
   "id": "bc39cd27",
   "metadata": {},
   "outputs": [],
   "source": [
    "closes[[\"revcost\", \"revenue\"]] = matched"
   ]
  },
  {
   "cell_type": "code",
   "execution_count": 37,
   "id": "f2495d9b",
   "metadata": {
    "scrolled": false
   },
   "outputs": [
    {
     "data": {
      "text/plain": [
       "                                close  revcost  revenue\n",
       "AAPL 2020-01-02 04:00:00-05:00  75.30      NaN      NaN\n",
       "     2020-01-03 04:00:00-05:00  74.33      NaN      NaN\n",
       "     2020-01-06 04:00:00-05:00  74.91      0.0      4.0\n",
       "     2020-01-07 04:00:00-05:00  73.15      NaN      NaN\n",
       "     2020-01-08 04:00:00-05:00  76.00      1.0      5.0\n",
       "     2020-01-09 04:00:00-05:00  77.60      NaN      NaN\n",
       "     2020-01-10 04:00:00-05:00  77.67      NaN      NaN\n",
       "     2020-01-13 04:00:00-05:00  79.70      2.0      6.0\n",
       "     2020-01-14 04:00:00-05:00  77.94      NaN      NaN\n",
       "     2020-01-15 04:00:00-05:00  78.05      3.0      7.0\n",
       "AMZN 2020-01-02 04:00:00-05:00  94.99      NaN      NaN\n",
       "     2020-01-03 04:00:00-05:00  93.57      NaN      NaN\n",
       "     2020-01-06 04:00:00-05:00  95.08      NaN      NaN\n",
       "     2020-01-07 04:00:00-05:00  93.15      0.0      4.0\n",
       "     2020-01-08 04:00:00-05:00  94.78      NaN      NaN\n",
       "     2020-01-09 04:00:00-05:00  95.17      1.0      5.0\n",
       "     2020-01-10 04:00:00-05:00  94.06      2.0      6.0\n",
       "     2020-01-13 04:00:00-05:00  94.63      NaN      NaN\n",
       "     2020-01-14 04:00:00-05:00  93.25      3.0      7.0\n",
       "     2020-01-15 04:00:00-05:00  93.24      NaN      NaN\n",
       "NVDA 2020-01-02 04:00:00-05:00  60.01      0.0      4.0\n",
       "     2020-01-03 04:00:00-05:00  59.02      NaN      NaN\n",
       "     2020-01-06 04:00:00-05:00  59.35      2.0      6.0\n",
       "     2020-01-07 04:00:00-05:00  57.88      NaN      NaN\n",
       "     2020-01-08 04:00:00-05:00  60.25      NaN      NaN\n",
       "     2020-01-09 04:00:00-05:00  60.93      NaN      NaN\n",
       "     2020-01-10 04:00:00-05:00  61.08      NaN      NaN\n",
       "     2020-01-13 04:00:00-05:00  63.20      3.0      7.0\n",
       "     2020-01-14 04:00:00-05:00  61.68      NaN      NaN\n",
       "     2020-01-15 04:00:00-05:00  61.54      NaN      NaN"
      ]
     },
     "execution_count": 37,
     "metadata": {},
     "output_type": "execute_result"
    }
   ],
   "source": [
    "closes.compute()"
   ]
  }
 ],
 "metadata": {
  "kernelspec": {
   "display_name": "dataprep_venv",
   "language": "python",
   "name": "dataprep_venv"
  },
  "language_info": {
   "codemirror_mode": {
    "name": "ipython",
    "version": 3
   },
   "file_extension": ".py",
   "mimetype": "text/x-python",
   "name": "python",
   "nbconvert_exporter": "python",
   "pygments_lexer": "ipython3",
   "version": "3.10.5"
  }
 },
 "nbformat": 4,
 "nbformat_minor": 5
}
