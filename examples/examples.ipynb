{
 "cells": [
  {
   "cell_type": "markdown",
   "id": "b806ed4e",
   "metadata": {},
   "source": [
    "Sections\n",
    "\n",
    "    readers\n",
    "    \n",
    "\n",
    "    Basic usage\n",
    "        \n",
    "        shapes\n",
    "        frequency\n",
    "        timezone\n",
    "        index\n",
    "        columns    \n",
    "        symbols\n",
    "            drop/select\n",
    "            \n",
    "        __setitem__\n",
    "        __getitem__\n",
    "        \n",
    "        \n",
    "    custom calculations\n",
    "        apply\n",
    "        __call__\n",
    "        \n",
    "\n",
    "    Sessions\n",
    "        detection\n",
    "                    \n",
    "        padding\n",
    "    \n",
    "    Match\n",
    "        different settings\n",
    "        \n",
    "    \n",
    "    * demo for each public method"
   ]
  },
  {
   "cell_type": "markdown",
   "id": "d924817d",
   "metadata": {},
   "source": [
    "# This package provides a three dimensional data structure, building on dask dataframes and delayed objects.\n",
    "The main class is `DataSet` and it should be used for embarrassingly parallel computations on a large number of dataframes. Rather than a full replacement for the dask api, this is intended to be an extension, with particular focus on financial timeseries data."
   ]
  },
  {
   "cell_type": "code",
   "execution_count": 1,
   "id": "169576ac",
   "metadata": {},
   "outputs": [],
   "source": [
    "import sys"
   ]
  },
  {
   "cell_type": "code",
   "execution_count": 2,
   "id": "e43769d1",
   "metadata": {},
   "outputs": [],
   "source": [
    "sys.path.append(\"..\")"
   ]
  },
  {
   "cell_type": "code",
   "execution_count": 3,
   "id": "331e0ee1",
   "metadata": {},
   "outputs": [],
   "source": [
    "import os\n",
    "import pandas as pd\n",
    "import dataprep as dp\n",
    "import pandas_market_calendars as mcal"
   ]
  },
  {
   "cell_type": "code",
   "execution_count": 4,
   "id": "0f106734",
   "metadata": {},
   "outputs": [],
   "source": [
    "pd.options.display.notebook_repr_html = False"
   ]
  },
  {
   "cell_type": "markdown",
   "id": "22c2c3e7",
   "metadata": {},
   "source": [
    "## Read Data and Basic Properties"
   ]
  },
  {
   "cell_type": "code",
   "execution_count": 5,
   "id": "2ba86d0e",
   "metadata": {
    "scrolled": true
   },
   "outputs": [],
   "source": [
    "data = dp.from_files(\"sample_data\", name= lambda p: p.split(\"_\")[0], dtindex= \"date\")\n",
    "\n",
    "data = data.set_timezone(\"America/New_York\")"
   ]
  },
  {
   "cell_type": "code",
   "execution_count": 6,
   "id": "9848eed2",
   "metadata": {
    "scrolled": true
   },
   "outputs": [
    {
     "data": {
      "text/plain": [
       "Index(['AAPL', 'AMZN', 'NVDA'], dtype='object')"
      ]
     },
     "execution_count": 6,
     "metadata": {},
     "output_type": "execute_result"
    }
   ],
   "source": [
    "data.symbols"
   ]
  },
  {
   "cell_type": "code",
   "execution_count": 7,
   "id": "3690c0b2",
   "metadata": {},
   "outputs": [
    {
     "data": {
      "text/plain": [
       "Timedelta('0 days 00:30:00')"
      ]
     },
     "execution_count": 7,
     "metadata": {},
     "output_type": "execute_result"
    }
   ],
   "source": [
    "data.frequency"
   ]
  },
  {
   "cell_type": "code",
   "execution_count": 8,
   "id": "7054edfc",
   "metadata": {},
   "outputs": [
    {
     "data": {
      "text/plain": [
       "<DstTzInfo 'America/New_York' LMT-1 day, 19:04:00 STD>"
      ]
     },
     "execution_count": 8,
     "metadata": {},
     "output_type": "execute_result"
    }
   ],
   "source": [
    "data.timezone"
   ]
  },
  {
   "cell_type": "code",
   "execution_count": 9,
   "id": "f1461131",
   "metadata": {
    "scrolled": true
   },
   "outputs": [
    {
     "data": {
      "text/plain": [
       "Index(['AAPL', 'AMZN', 'NVDA'], dtype='object')"
      ]
     },
     "execution_count": 9,
     "metadata": {},
     "output_type": "execute_result"
    }
   ],
   "source": [
    "data.symbols"
   ]
  },
  {
   "cell_type": "code",
   "execution_count": 10,
   "id": "06d68b1e",
   "metadata": {},
   "outputs": [
    {
     "data": {
      "text/plain": [
       "Index(['open', 'high', 'low', 'close', 'volume'], dtype='object')"
      ]
     },
     "execution_count": 10,
     "metadata": {},
     "output_type": "execute_result"
    }
   ],
   "source": [
    "data.columns"
   ]
  },
  {
   "cell_type": "code",
   "execution_count": 11,
   "id": "b1ef05c3",
   "metadata": {
    "scrolled": true
   },
   "outputs": [
    {
     "data": {
      "text/plain": [
       "False"
      ]
     },
     "execution_count": 11,
     "metadata": {},
     "output_type": "execute_result"
    }
   ],
   "source": [
    "data.all_indexes_equal"
   ]
  },
  {
   "cell_type": "code",
   "execution_count": 12,
   "id": "02282a13",
   "metadata": {},
   "outputs": [
    {
     "data": {
      "text/plain": [
       "                             0                         1\n",
       "AAPL 2020-01-02 04:00:00-05:00 2020-01-15 19:30:00-05:00\n",
       "AMZN 2020-01-02 04:00:00-05:00 2020-01-15 19:30:00-05:00\n",
       "NVDA 2020-01-02 04:00:00-05:00 2020-01-15 19:30:00-05:00"
      ]
     },
     "execution_count": 12,
     "metadata": {},
     "output_type": "execute_result"
    }
   ],
   "source": [
    "data.index_ranges # they all cover the same date ranges"
   ]
  },
  {
   "cell_type": "code",
   "execution_count": 13,
   "id": "591e2f67",
   "metadata": {},
   "outputs": [
    {
     "data": {
      "text/plain": [
       "        0  1\n",
       "AAPL  320  5\n",
       "AMZN  312  5\n",
       "NVDA  320  5"
      ]
     },
     "execution_count": 13,
     "metadata": {},
     "output_type": "execute_result"
    }
   ],
   "source": [
    "data.shapes # shape of each dataframe ... something is off about AMZN"
   ]
  },
  {
   "cell_type": "code",
   "execution_count": 14,
   "id": "fbefd943",
   "metadata": {},
   "outputs": [
    {
     "data": {
      "text/plain": [
       "((3, 5), (952, 5))"
      ]
     },
     "execution_count": 14,
     "metadata": {},
     "output_type": "execute_result"
    }
   ],
   "source": [
    "data.shape, data.fshape  # shape of the DataSet (symbols, columns), full shape of data (sum of rows, columns)"
   ]
  },
  {
   "cell_type": "markdown",
   "id": "0a6dcaa8",
   "metadata": {},
   "source": [
    "## Inspecting Price Data for Incomplete and Missing Sessions"
   ]
  },
  {
   "cell_type": "markdown",
   "id": "d152f856",
   "metadata": {},
   "source": [
    "The following methods need a schedule dataframe, as it is provided by the packages `pandas_market_calendars` and `exchange_calendars`."
   ]
  },
  {
   "cell_type": "code",
   "execution_count": 15,
   "id": "4420d687",
   "metadata": {},
   "outputs": [],
   "source": [
    "nyse = mcal.get_calendar(\"NYSE\").schedule(\"2020-01-01\", \"2020-01-20\", market_times= \"all\", tz= data.timezone)"
   ]
  },
  {
   "cell_type": "code",
   "execution_count": 16,
   "id": "5529494b",
   "metadata": {},
   "outputs": [
    {
     "data": {
      "text/plain": [
       "Empty DataFrame\n",
       "Columns: [missing_sessions]\n",
       "Index: []"
      ]
     },
     "execution_count": 16,
     "metadata": {},
     "output_type": "execute_result"
    }
   ],
   "source": [
    "missing = data.missing_sessions(nyse)\n",
    "\n",
    "missing.compute() # There are no sessions that are missing entirely..."
   ]
  },
  {
   "cell_type": "code",
   "execution_count": 17,
   "id": "761abe27",
   "metadata": {},
   "outputs": [
    {
     "data": {
      "text/plain": [
       "                                     incomplete_sessions\n",
       "AMZN 2020-01-09 04:00:00-05:00 2020-01-09 04:00:00-05:00\n",
       "     2020-01-10 04:00:00-05:00 2020-01-10 04:00:00-05:00\n",
       "     2020-01-15 04:00:00-05:00 2020-01-15 04:00:00-05:00"
      ]
     },
     "execution_count": 17,
     "metadata": {},
     "output_type": "execute_result"
    }
   ],
   "source": [
    "incomp = data.incomplete_sessions(nyse)\n",
    "\n",
    "incomp.compute() # But AMZN has three incomplete sessions"
   ]
  },
  {
   "cell_type": "code",
   "execution_count": 18,
   "id": "53490a3c",
   "metadata": {},
   "outputs": [
    {
     "data": {
      "text/plain": [
       "                                         missing_indexes\n",
       "AMZN 2020-01-09 04:00:00-05:00 2020-01-09 04:00:00-05:00\n",
       "     2020-01-09 04:30:00-05:00 2020-01-09 04:30:00-05:00\n",
       "     2020-01-10 04:00:00-05:00 2020-01-10 04:00:00-05:00\n",
       "     2020-01-10 04:30:00-05:00 2020-01-10 04:30:00-05:00\n",
       "     2020-01-10 05:00:00-05:00 2020-01-10 05:00:00-05:00\n",
       "     2020-01-10 05:30:00-05:00 2020-01-10 05:30:00-05:00\n",
       "     2020-01-10 06:00:00-05:00 2020-01-10 06:00:00-05:00\n",
       "     2020-01-15 04:00:00-05:00 2020-01-15 04:00:00-05:00"
      ]
     },
     "execution_count": 18,
     "metadata": {},
     "output_type": "execute_result"
    }
   ],
   "source": [
    "missing = data.missing_indexes(nyse)\n",
    "\n",
    "# These are the indexes that should exist according to NYSE's schedule, \n",
    "missing.compute()"
   ]
  },
  {
   "cell_type": "code",
   "execution_count": 19,
   "id": "07c60770",
   "metadata": {
    "scrolled": false
   },
   "outputs": [
    {
     "data": {
      "text/plain": [
       "        0  0\n",
       "AAPL  320  0\n",
       "AMZN  312  8\n",
       "NVDA  320  0"
      ]
     },
     "execution_count": 19,
     "metadata": {},
     "output_type": "execute_result"
    }
   ],
   "source": [
    "# This explains the difference between the shapes\n",
    "pd.concat([data.shapes[0], missing.shapes[0]], axis= 1)"
   ]
  },
  {
   "cell_type": "markdown",
   "id": "9e2ba574",
   "metadata": {},
   "source": [
    "### Fill the data to have complete indexes\n",
    "\n",
    "`DataSet.ffill_sessions` will use `pd.DataFrame.ffill` in a way that all indexes\n",
    "that should exist according to NYSE's schedule are represented with the previous index's value."
   ]
  },
  {
   "cell_type": "code",
   "execution_count": 20,
   "id": "9107bcd1",
   "metadata": {
    "scrolled": true
   },
   "outputs": [
    {
     "name": "stdout",
     "output_type": "stream",
     "text": [
      "True\n"
     ]
    },
    {
     "data": {
      "text/plain": [
       "        0  1\n",
       "AAPL  320  5\n",
       "AMZN  320  5\n",
       "NVDA  320  5"
      ]
     },
     "execution_count": 20,
     "metadata": {},
     "output_type": "execute_result"
    }
   ],
   "source": [
    "filled = data.ffill_sessions(nyse) \n",
    "print(filled.all_indexes_equal)\n",
    "filled.shapes"
   ]
  },
  {
   "cell_type": "markdown",
   "id": "94d3b589",
   "metadata": {},
   "source": [
    "## Apply Any Python Function\n",
    "\n",
    "There are two options:\n",
    "\n",
    "    * If the function returns a pandas object, call the DataSet directly.\n",
    "    * If not, use .apply."
   ]
  },
  {
   "cell_type": "code",
   "execution_count": 21,
   "id": "b01904da",
   "metadata": {},
   "outputs": [],
   "source": [
    "# This returns a pd.Series\n",
    "def av_pre_volume(d):\n",
    "    d = d[(d.index - d.index.normalize()) < pd.Timedelta(\"9.5H\")]\n",
    "    return d[\"volume\"].groupby(d.index.normalize()).mean()"
   ]
  },
  {
   "cell_type": "code",
   "execution_count": 22,
   "id": "10138b5a",
   "metadata": {},
   "outputs": [],
   "source": [
    "av_pre_vol = filled(av_pre_volume)"
   ]
  },
  {
   "cell_type": "markdown",
   "id": "30f467ac",
   "metadata": {},
   "source": [
    "`DataSet.__call__` will return a `DataSet` object. If the return value of the passed function is one dimensional, it will be converted to a `DataFrame` to make it fit into a `DataSet`. So far, there is no specific support for `pd.Index` or `pd.Series`."
   ]
  },
  {
   "cell_type": "code",
   "execution_count": 23,
   "id": "7cdb3829",
   "metadata": {
    "scrolled": true
   },
   "outputs": [
    {
     "data": {
      "text/plain": [
       "\n",
       "                                     volume\n",
       "AAPL 2020-01-02 00:00:00-05:00  1654.090909\n",
       "     2020-01-03 00:00:00-05:00  3615.454545\n",
       "AMZN 2020-01-02 00:00:00-05:00   565.727273\n",
       "     2020-01-03 00:00:00-05:00  1043.545455\n",
       "NVDA 2020-01-02 00:00:00-05:00   283.909091\n",
       "     2020-01-03 00:00:00-05:00   359.363636"
      ]
     },
     "execution_count": 23,
     "metadata": {},
     "output_type": "execute_result"
    }
   ],
   "source": [
    "av_pre_vol"
   ]
  },
  {
   "cell_type": "code",
   "execution_count": 24,
   "id": "d8102c21",
   "metadata": {},
   "outputs": [],
   "source": [
    "# This returns a scalar\n",
    "def av_pre_volume(d):\n",
    "    pre = (d.index - d.index.normalize()) < pd.Timedelta(\"9.5H\")\n",
    "    return d.loc[pre, \"volume\"].mean()"
   ]
  },
  {
   "cell_type": "code",
   "execution_count": 25,
   "id": "1254bd37",
   "metadata": {},
   "outputs": [],
   "source": [
    "av_pre_vol = filled.apply(av_pre_volume)"
   ]
  },
  {
   "cell_type": "markdown",
   "id": "fc79d02d",
   "metadata": {},
   "source": [
    "`DataSet.apply` will return a `Data` object, which doesn't have most of the features that a `DataSet` has because \n",
    "it doesn't assume that it will deal with pandas objects."
   ]
  },
  {
   "cell_type": "code",
   "execution_count": 26,
   "id": "2a8438a1",
   "metadata": {
    "scrolled": true
   },
   "outputs": [
    {
     "data": {
      "text/plain": [
       "{'AAPL': 2130.2363636363634, 'AMZN': 474.4818181818182, 'NVDA': 259.4}"
      ]
     },
     "execution_count": 26,
     "metadata": {},
     "output_type": "execute_result"
    }
   ],
   "source": [
    "av_pre_vol.compute()"
   ]
  },
  {
   "cell_type": "markdown",
   "id": "92d60b8e",
   "metadata": {},
   "source": [
    "If you pass this to the DataSet directly it will raise an error when the delayed object is computed."
   ]
  },
  {
   "cell_type": "code",
   "execution_count": 27,
   "id": "0fea5ac1",
   "metadata": {},
   "outputs": [
    {
     "name": "stdout",
     "output_type": "stream",
     "text": [
      "`func` needs to return a pandas object, otherwise use .apply\n"
     ]
    }
   ],
   "source": [
    "try:\n",
    "    filled(av_pre_volume).compute()\n",
    "except AssertionError as e:\n",
    "    print(e)"
   ]
  },
  {
   "cell_type": "markdown",
   "id": "02914fd1",
   "metadata": {},
   "source": [
    "## Match Data with Different Frequencies"
   ]
  },
  {
   "cell_type": "code",
   "execution_count": 28,
   "id": "f67c853d",
   "metadata": {},
   "outputs": [
    {
     "data": {
      "text/plain": [
       "Timedelta('1 days 00:00:00')"
      ]
     },
     "execution_count": 28,
     "metadata": {},
     "output_type": "execute_result"
    }
   ],
   "source": [
    "# For demonstration, convert the data to a daily frequency\n",
    "def todaily(d):\n",
    "    return d.resample(\"1D\", origin= \"start\").agg(\n",
    "        {\"open\": \"first\", \"high\": \"max\", \"low\": \"min\", \"close\": \"last\", \"volume\": \"sum\"}).dropna()\n",
    "\n",
    "daily = filled(todaily)\n",
    "\n",
    "daily.frequency"
   ]
  },
  {
   "cell_type": "code",
   "execution_count": 29,
   "id": "79a655c2",
   "metadata": {
    "scrolled": false
   },
   "outputs": [
    {
     "data": {
      "text/plain": [
       "                                 open   high    low  close     volume\n",
       "AAPL 2020-01-02 04:00:00-05:00  73.76  75.30  73.76  75.30  1168200.0\n",
       "     2020-01-03 04:00:00-05:00  74.34  75.14  73.60  74.33  1271678.0\n",
       "     2020-01-06 04:00:00-05:00  73.86  74.99  73.19  74.91  1007688.0\n",
       "     2020-01-07 04:00:00-05:00  75.12  75.23  73.00  73.15   916430.0\n",
       "     2020-01-08 04:00:00-05:00  74.13  76.11  74.13  76.00  1128600.0\n",
       "     2020-01-09 04:00:00-05:00  76.30  77.61  76.26  77.60  1483274.0\n",
       "     2020-01-10 04:00:00-05:00  77.81  78.17  77.06  77.67  1221207.0\n",
       "     2020-01-13 04:00:00-05:00  77.88  79.70  77.79  79.70  1051003.0\n",
       "     2020-01-14 04:00:00-05:00  79.13  79.44  77.70  77.94  1394565.0\n",
       "     2020-01-15 04:00:00-05:00  77.97  78.88  77.39  78.05  1032766.0\n",
       "AMZN 2020-01-02 04:00:00-05:00  93.21  95.02  92.39  94.99   487803.0\n",
       "     2020-01-03 04:00:00-05:00  93.50  94.31  93.00  93.57   405417.0\n",
       "     2020-01-06 04:00:00-05:00  92.99  95.18  92.67  95.08   481008.0\n",
       "     2020-01-07 04:00:00-05:00  95.46  95.69  92.75  93.15   470907.0\n",
       "     2020-01-08 04:00:00-05:00  94.80  95.58  94.32  94.78   400591.0\n",
       "     2020-01-09 04:00:00-05:00  94.78  95.89  94.78  95.17   378158.0\n",
       "     2020-01-10 04:00:00-05:00  95.09  95.40  94.00  94.06   336750.0\n",
       "     2020-01-13 04:00:00-05:00  94.48  94.90  94.04  94.63   324663.0\n",
       "     2020-01-14 04:00:00-05:00  94.25  94.61  92.93  93.25   384719.0\n",
       "     2020-01-15 04:00:00-05:00  93.25  93.94  92.75  93.24   317252.0\n",
       "NVDA 2020-01-02 04:00:00-05:00  59.26  60.10  59.18  60.01   180489.0\n",
       "     2020-01-03 04:00:00-05:00  59.13  59.46  58.04  59.02   157305.0\n",
       "     2020-01-06 04:00:00-05:00  58.25  59.35  57.69  59.35   209028.0\n",
       "     2020-01-07 04:00:00-05:00  59.55  60.44  57.63  57.88   258745.0\n",
       "     2020-01-08 04:00:00-05:00  59.33  60.51  59.33  60.25   224926.0\n",
       "     2020-01-09 04:00:00-05:00  60.63  61.48  60.21  60.93   203703.0\n",
       "     2020-01-10 04:00:00-05:00  61.22  62.14  60.94  61.08   253594.0\n",
       "     2020-01-13 04:00:00-05:00  61.72  63.25  61.52  63.20   257304.0\n",
       "     2020-01-14 04:00:00-05:00  62.93  63.22  61.67  61.68   286669.0\n",
       "     2020-01-15 04:00:00-05:00  61.88  62.75  61.13  61.54   203550.0"
      ]
     },
     "execution_count": 29,
     "metadata": {},
     "output_type": "execute_result"
    }
   ],
   "source": [
    "daily.compute()"
   ]
  },
  {
   "cell_type": "code",
   "execution_count": 30,
   "id": "495fbbc8",
   "metadata": {},
   "outputs": [],
   "source": [
    "# Create demo data\n",
    "data = dict(revcost= range(4), revenue= range(4, 8))\n",
    "ix = lambda x: pd.DatetimeIndex(x).tz_localize(daily.timezone)\n",
    "funds = dict(\n",
    "    AAPL = pd.DataFrame(data, index= ix([\"2020-01-03\", \"2020-01-07\", \"2020-01-11\", \"2020-01-14\"])),\n",
    "    NVDA = pd.DataFrame(data, index= ix([\"2020-01-01\", \"2020-01-05\", \"2020-01-05\", \"2020-01-12\"])),\n",
    "    AMZN = pd.DataFrame(data, index= ix([\"2020-01-06\", \"2020-01-08 14:30:00\", \"2020-01-09\", \"2020-01-13\"]))\n",
    ")"
   ]
  },
  {
   "cell_type": "code",
   "execution_count": 31,
   "id": "3ec505ea",
   "metadata": {
    "scrolled": true
   },
   "outputs": [
    {
     "data": {
      "text/plain": [
       "                                revcost  revenue\n",
       "AAPL 2020-01-03 00:00:00-05:00        0        4\n",
       "     2020-01-07 00:00:00-05:00        1        5\n",
       "     2020-01-11 00:00:00-05:00        2        6\n",
       "     2020-01-14 00:00:00-05:00        3        7\n",
       "NVDA 2020-01-01 00:00:00-05:00        0        4\n",
       "     2020-01-05 00:00:00-05:00        1        5\n",
       "     2020-01-05 00:00:00-05:00        2        6\n",
       "     2020-01-12 00:00:00-05:00        3        7\n",
       "AMZN 2020-01-06 00:00:00-05:00        0        4\n",
       "     2020-01-08 14:30:00-05:00        1        5\n",
       "     2020-01-09 00:00:00-05:00        2        6\n",
       "     2020-01-13 00:00:00-05:00        3        7"
      ]
     },
     "execution_count": 31,
     "metadata": {},
     "output_type": "execute_result"
    }
   ],
   "source": [
    "funds = dp.from_pandas(funds)\n",
    "\n",
    "funds.compute()"
   ]
  },
  {
   "cell_type": "markdown",
   "id": "761178b6",
   "metadata": {},
   "source": [
    "The `DataSet.match` method expects a `DataSet` as first argument and will match the data of the caller to the indexes of the passed DataSet, which requires matching symbols. There are multiple keyword arguments that allow you to control the way the data is matched."
   ]
  },
  {
   "cell_type": "code",
   "execution_count": 32,
   "id": "0b53e422",
   "metadata": {
    "scrolled": false
   },
   "outputs": [
    {
     "data": {
      "text/plain": [
       "                                revcost  revenue                    fromix\n",
       "AAPL 2020-01-03 04:00:00-05:00      0.0      4.0 2020-01-03 00:00:00-05:00\n",
       "     2020-01-07 04:00:00-05:00      1.0      5.0 2020-01-07 00:00:00-05:00\n",
       "     2020-01-13 04:00:00-05:00      2.0      6.0 2020-01-11 00:00:00-05:00\n",
       "     2020-01-14 04:00:00-05:00      3.0      7.0 2020-01-14 00:00:00-05:00\n",
       "NVDA 2020-01-02 04:00:00-05:00      0.0      4.0 2020-01-01 00:00:00-05:00\n",
       "     2020-01-06 04:00:00-05:00      2.0      6.0 2020-01-05 00:00:00-05:00\n",
       "     2020-01-13 04:00:00-05:00      3.0      7.0 2020-01-12 00:00:00-05:00\n",
       "AMZN 2020-01-06 04:00:00-05:00      0.0      4.0 2020-01-06 00:00:00-05:00\n",
       "     2020-01-09 04:00:00-05:00      2.0      6.0 2020-01-09 00:00:00-05:00\n",
       "     2020-01-13 04:00:00-05:00      3.0      7.0 2020-01-13 00:00:00-05:00"
      ]
     },
     "execution_count": 32,
     "metadata": {},
     "output_type": "execute_result"
    }
   ],
   "source": [
    "# fromix = True will add the index that the data is from as a column\n",
    "matched = funds.match(daily, fromix= True)\n",
    "\n",
    "matched.compute().dropna(how= \"all\")"
   ]
  },
  {
   "cell_type": "code",
   "execution_count": 33,
   "id": "09c7fb6a",
   "metadata": {
    "scrolled": true
   },
   "outputs": [
    {
     "data": {
      "text/plain": [
       "                                revcost  revenue                    fromix\n",
       "AAPL 2020-01-06 04:00:00-05:00      0.0      4.0 2020-01-03 00:00:00-05:00\n",
       "     2020-01-08 04:00:00-05:00      1.0      5.0 2020-01-07 00:00:00-05:00\n",
       "     2020-01-13 04:00:00-05:00      2.0      6.0 2020-01-11 00:00:00-05:00\n",
       "     2020-01-15 04:00:00-05:00      3.0      7.0 2020-01-14 00:00:00-05:00\n",
       "NVDA 2020-01-02 04:00:00-05:00      0.0      4.0 2020-01-01 00:00:00-05:00\n",
       "     2020-01-06 04:00:00-05:00      2.0      6.0 2020-01-05 00:00:00-05:00\n",
       "     2020-01-13 04:00:00-05:00      3.0      7.0 2020-01-12 00:00:00-05:00\n",
       "AMZN 2020-01-07 04:00:00-05:00      0.0      4.0 2020-01-06 00:00:00-05:00\n",
       "     2020-01-09 04:00:00-05:00      1.0      5.0 2020-01-08 14:30:00-05:00\n",
       "     2020-01-10 04:00:00-05:00      2.0      6.0 2020-01-09 00:00:00-05:00\n",
       "     2020-01-14 04:00:00-05:00      3.0      7.0 2020-01-13 00:00:00-05:00"
      ]
     },
     "execution_count": 33,
     "metadata": {},
     "output_type": "execute_result"
    }
   ],
   "source": [
    "# off= 1 will add one day to the data's index before matching, norm= True will also normalize it.\n",
    "matched = funds.match(daily, off= 1, norm= True, fromix= True)\n",
    "matched.compute().dropna(how= \"all\")"
   ]
  },
  {
   "cell_type": "code",
   "execution_count": 34,
   "id": "7f4045ad",
   "metadata": {
    "scrolled": true
   },
   "outputs": [
    {
     "data": {
      "text/plain": [
       "                                revcost  revenue                    fromix\n",
       "AAPL 2020-01-02 04:00:00-05:00      NaN      NaN                       NaT\n",
       "     2020-01-03 04:00:00-05:00      NaN      NaN                       NaT\n",
       "     2020-01-06 04:00:00-05:00      0.0      4.0 2020-01-03 00:00:00-05:00\n",
       "     2020-01-07 04:00:00-05:00      NaN      NaN                       NaT\n",
       "     2020-01-08 04:00:00-05:00      1.0      5.0 2020-01-07 00:00:00-05:00\n",
       "     2020-01-09 04:00:00-05:00      NaN      NaN                       NaT\n",
       "     2020-01-10 04:00:00-05:00      NaN      NaN                       NaT\n",
       "     2020-01-13 04:00:00-05:00      2.0      6.0 2020-01-11 00:00:00-05:00\n",
       "     2020-01-14 04:00:00-05:00      NaN      NaN                       NaT\n",
       "     2020-01-15 04:00:00-05:00      3.0      7.0 2020-01-14 00:00:00-05:00\n",
       "NVDA 2020-01-02 04:00:00-05:00      0.0      4.0 2020-01-01 00:00:00-05:00\n",
       "     2020-01-03 04:00:00-05:00      NaN      NaN                       NaT\n",
       "     2020-01-06 04:00:00-05:00      2.0      6.0 2020-01-05 00:00:00-05:00\n",
       "     2020-01-07 04:00:00-05:00      NaN      NaN                       NaT\n",
       "     2020-01-08 04:00:00-05:00      NaN      NaN                       NaT\n",
       "     2020-01-09 04:00:00-05:00      NaN      NaN                       NaT\n",
       "     2020-01-10 04:00:00-05:00      NaN      NaN                       NaT\n",
       "     2020-01-13 04:00:00-05:00      3.0      7.0 2020-01-12 00:00:00-05:00\n",
       "     2020-01-14 04:00:00-05:00      NaN      NaN                       NaT\n",
       "     2020-01-15 04:00:00-05:00      NaN      NaN                       NaT\n",
       "AMZN 2020-01-02 04:00:00-05:00      NaN      NaN                       NaT\n",
       "     2020-01-03 04:00:00-05:00      NaN      NaN                       NaT\n",
       "     2020-01-06 04:00:00-05:00      NaN      NaN                       NaT\n",
       "     2020-01-07 04:00:00-05:00      0.0      4.0 2020-01-06 00:00:00-05:00\n",
       "     2020-01-08 04:00:00-05:00      NaN      NaN                       NaT\n",
       "     2020-01-09 04:00:00-05:00      1.0      5.0 2020-01-08 14:30:00-05:00\n",
       "     2020-01-10 04:00:00-05:00      2.0      6.0 2020-01-09 00:00:00-05:00\n",
       "     2020-01-13 04:00:00-05:00      NaN      NaN                       NaT\n",
       "     2020-01-14 04:00:00-05:00      3.0      7.0 2020-01-13 00:00:00-05:00\n",
       "     2020-01-15 04:00:00-05:00      NaN      NaN                       NaT"
      ]
     },
     "execution_count": 34,
     "metadata": {},
     "output_type": "execute_result"
    }
   ],
   "source": [
    "matched.compute()"
   ]
  },
  {
   "cell_type": "code",
   "execution_count": 35,
   "id": "2258b782",
   "metadata": {},
   "outputs": [],
   "source": [
    "closes = daily[\"close\"]"
   ]
  },
  {
   "cell_type": "code",
   "execution_count": 36,
   "id": "bc39cd27",
   "metadata": {},
   "outputs": [],
   "source": [
    "closes[[\"revcost\", \"revenue\"]] = matched"
   ]
  },
  {
   "cell_type": "code",
   "execution_count": 37,
   "id": "f2495d9b",
   "metadata": {
    "scrolled": false
   },
   "outputs": [
    {
     "data": {
      "text/plain": [
       "                                close  revcost  revenue\n",
       "AAPL 2020-01-02 04:00:00-05:00  75.30      NaN      NaN\n",
       "     2020-01-03 04:00:00-05:00  74.33      NaN      NaN\n",
       "     2020-01-06 04:00:00-05:00  74.91      0.0      4.0\n",
       "     2020-01-07 04:00:00-05:00  73.15      NaN      NaN\n",
       "     2020-01-08 04:00:00-05:00  76.00      1.0      5.0\n",
       "     2020-01-09 04:00:00-05:00  77.60      NaN      NaN\n",
       "     2020-01-10 04:00:00-05:00  77.67      NaN      NaN\n",
       "     2020-01-13 04:00:00-05:00  79.70      2.0      6.0\n",
       "     2020-01-14 04:00:00-05:00  77.94      NaN      NaN\n",
       "     2020-01-15 04:00:00-05:00  78.05      3.0      7.0\n",
       "AMZN 2020-01-02 04:00:00-05:00  94.99      NaN      NaN\n",
       "     2020-01-03 04:00:00-05:00  93.57      NaN      NaN\n",
       "     2020-01-06 04:00:00-05:00  95.08      NaN      NaN\n",
       "     2020-01-07 04:00:00-05:00  93.15      0.0      4.0\n",
       "     2020-01-08 04:00:00-05:00  94.78      NaN      NaN\n",
       "     2020-01-09 04:00:00-05:00  95.17      1.0      5.0\n",
       "     2020-01-10 04:00:00-05:00  94.06      2.0      6.0\n",
       "     2020-01-13 04:00:00-05:00  94.63      NaN      NaN\n",
       "     2020-01-14 04:00:00-05:00  93.25      3.0      7.0\n",
       "     2020-01-15 04:00:00-05:00  93.24      NaN      NaN\n",
       "NVDA 2020-01-02 04:00:00-05:00  60.01      0.0      4.0\n",
       "     2020-01-03 04:00:00-05:00  59.02      NaN      NaN\n",
       "     2020-01-06 04:00:00-05:00  59.35      2.0      6.0\n",
       "     2020-01-07 04:00:00-05:00  57.88      NaN      NaN\n",
       "     2020-01-08 04:00:00-05:00  60.25      NaN      NaN\n",
       "     2020-01-09 04:00:00-05:00  60.93      NaN      NaN\n",
       "     2020-01-10 04:00:00-05:00  61.08      NaN      NaN\n",
       "     2020-01-13 04:00:00-05:00  63.20      3.0      7.0\n",
       "     2020-01-14 04:00:00-05:00  61.68      NaN      NaN\n",
       "     2020-01-15 04:00:00-05:00  61.54      NaN      NaN"
      ]
     },
     "execution_count": 37,
     "metadata": {},
     "output_type": "execute_result"
    }
   ],
   "source": [
    "closes.compute()"
   ]
  },
  {
   "cell_type": "code",
   "execution_count": null,
   "id": "f9542285",
   "metadata": {},
   "outputs": [],
   "source": []
  },
  {
   "cell_type": "code",
   "execution_count": null,
   "id": "23d1e1dc",
   "metadata": {},
   "outputs": [],
   "source": [
    "\n",
    "\n",
    "\n",
    "\n",
    "\n",
    "\n"
   ]
  },
  {
   "cell_type": "code",
   "execution_count": 18,
   "id": "ebc3b883",
   "metadata": {},
   "outputs": [],
   "source": [
    "def plus(d, td):\n",
    "    d.index += td\n",
    "    return d    "
   ]
  },
  {
   "cell_type": "code",
   "execution_count": 19,
   "id": "fbed3e65",
   "metadata": {},
   "outputs": [],
   "source": [
    "def calc_return(d):\n",
    "    return d[\"close\"]/d[\"close\"].shift()"
   ]
  },
  {
   "cell_type": "code",
   "execution_count": 20,
   "id": "5e1d533a",
   "metadata": {},
   "outputs": [],
   "source": [
    "plusd = data(plus, pd.Timedelta(\"365D\"))"
   ]
  },
  {
   "cell_type": "code",
   "execution_count": 21,
   "id": "8612c8f6",
   "metadata": {},
   "outputs": [
    {
     "data": {
      "text/plain": [
       "Index(['open', 'high', 'low', 'close', 'volume'], dtype='object')"
      ]
     },
     "execution_count": 21,
     "metadata": {},
     "output_type": "execute_result"
    }
   ],
   "source": [
    "data.common_columns"
   ]
  },
  {
   "cell_type": "code",
   "execution_count": 22,
   "id": "b9e3c104",
   "metadata": {
    "scrolled": false
   },
   "outputs": [
    {
     "data": {
      "text/plain": [
       "AAPL    [open, high, low, close, volume]\n",
       "AMZN    [open, high, low, close, volume]\n",
       "NVDA    [open, high, low, close, volume]\n",
       "dtype: object"
      ]
     },
     "execution_count": 22,
     "metadata": {},
     "output_type": "execute_result"
    }
   ],
   "source": [
    "data.all_columns"
   ]
  },
  {
   "cell_type": "code",
   "execution_count": 23,
   "id": "270e5485",
   "metadata": {},
   "outputs": [
    {
     "data": {
      "text/plain": [
       "Index(['open', 'high', 'low', 'close', 'volume'], dtype='object')"
      ]
     },
     "execution_count": 23,
     "metadata": {},
     "output_type": "execute_result"
    }
   ],
   "source": [
    "plusd.common_columns"
   ]
  },
  {
   "cell_type": "code",
   "execution_count": 24,
   "id": "e7f3611b",
   "metadata": {},
   "outputs": [],
   "source": [
    "returns = plusd(calc_return)"
   ]
  },
  {
   "cell_type": "code",
   "execution_count": 25,
   "id": "fe7e28dd",
   "metadata": {},
   "outputs": [],
   "source": [
    "returns = returns(lambda d: d -1, name= \"returns\")"
   ]
  },
  {
   "cell_type": "code",
   "execution_count": 26,
   "id": "6703faba",
   "metadata": {},
   "outputs": [
    {
     "data": {
      "text/plain": [
       "\n",
       "                             close\n",
       "     date                         \n",
       "AAPL 2021-01-01 04:00:00       NaN\n",
       "     2021-01-01 04:30:00 -0.000135\n",
       "AMZN 2021-01-01 04:00:00       NaN\n",
       "     2021-01-01 04:30:00  0.000429\n",
       "NVDA 2021-01-01 04:00:00       NaN\n",
       "     2021-01-01 04:30:00 -0.000670"
      ]
     },
     "execution_count": 26,
     "metadata": {},
     "output_type": "execute_result"
    }
   ],
   "source": [
    "returns"
   ]
  },
  {
   "cell_type": "code",
   "execution_count": 27,
   "id": "ccacda5f",
   "metadata": {},
   "outputs": [],
   "source": [
    "opn = plusd[\"open\"]"
   ]
  },
  {
   "cell_type": "code",
   "execution_count": 28,
   "id": "09195b35",
   "metadata": {},
   "outputs": [
    {
     "data": {
      "text/plain": [
       "Index(['open'], dtype='object')"
      ]
     },
     "execution_count": 28,
     "metadata": {},
     "output_type": "execute_result"
    }
   ],
   "source": [
    "opn.common_columns"
   ]
  },
  {
   "cell_type": "code",
   "execution_count": 29,
   "id": "1a33407b",
   "metadata": {},
   "outputs": [
    {
     "data": {
      "text/plain": [
       "{'AAPL': pandas.core.frame.DataFrame,\n",
       " 'AMZN': pandas.core.frame.DataFrame,\n",
       " 'NVDA': pandas.core.frame.DataFrame}"
      ]
     },
     "execution_count": 29,
     "metadata": {},
     "output_type": "execute_result"
    }
   ],
   "source": [
    "opn.apply(lambda d: type(d)).compute()"
   ]
  },
  {
   "cell_type": "code",
   "execution_count": 30,
   "id": "77fbc471",
   "metadata": {},
   "outputs": [
    {
     "data": {
      "text/plain": [
       "Index(['open'], dtype='object')"
      ]
     },
     "execution_count": 30,
     "metadata": {},
     "output_type": "execute_result"
    }
   ],
   "source": [
    "opn.common_columns"
   ]
  },
  {
   "cell_type": "code",
   "execution_count": 31,
   "id": "a278f316",
   "metadata": {},
   "outputs": [],
   "source": [
    "opn[\"close\"] = plusd(lambda d: (d.open * 2))"
   ]
  },
  {
   "cell_type": "markdown",
   "id": "89dc1f7a",
   "metadata": {},
   "source": [
    "# The following issue is caused by .__setitem__ making an inplace change to DataSet.data"
   ]
  },
  {
   "cell_type": "code",
   "execution_count": 33,
   "id": "527087b5",
   "metadata": {},
   "outputs": [
    {
     "ename": "KeyError",
     "evalue": "\"None of [Index(['close'], dtype='object')] are in the [columns]\"",
     "output_type": "error",
     "traceback": [
      "\u001b[1;31m---------------------------------------------------------------------------\u001b[0m",
      "\u001b[1;31mKeyError\u001b[0m                                  Traceback (most recent call last)",
      "File \u001b[1;32mC:\\Code\\DataPrep\\venv\\lib\\site-packages\\IPython\\core\\formatters.py:707\u001b[0m, in \u001b[0;36mPlainTextFormatter.__call__\u001b[1;34m(self, obj)\u001b[0m\n\u001b[0;32m    700\u001b[0m stream \u001b[38;5;241m=\u001b[39m StringIO()\n\u001b[0;32m    701\u001b[0m printer \u001b[38;5;241m=\u001b[39m pretty\u001b[38;5;241m.\u001b[39mRepresentationPrinter(stream, \u001b[38;5;28mself\u001b[39m\u001b[38;5;241m.\u001b[39mverbose,\n\u001b[0;32m    702\u001b[0m     \u001b[38;5;28mself\u001b[39m\u001b[38;5;241m.\u001b[39mmax_width, \u001b[38;5;28mself\u001b[39m\u001b[38;5;241m.\u001b[39mnewline,\n\u001b[0;32m    703\u001b[0m     max_seq_length\u001b[38;5;241m=\u001b[39m\u001b[38;5;28mself\u001b[39m\u001b[38;5;241m.\u001b[39mmax_seq_length,\n\u001b[0;32m    704\u001b[0m     singleton_pprinters\u001b[38;5;241m=\u001b[39m\u001b[38;5;28mself\u001b[39m\u001b[38;5;241m.\u001b[39msingleton_printers,\n\u001b[0;32m    705\u001b[0m     type_pprinters\u001b[38;5;241m=\u001b[39m\u001b[38;5;28mself\u001b[39m\u001b[38;5;241m.\u001b[39mtype_printers,\n\u001b[0;32m    706\u001b[0m     deferred_pprinters\u001b[38;5;241m=\u001b[39m\u001b[38;5;28mself\u001b[39m\u001b[38;5;241m.\u001b[39mdeferred_printers)\n\u001b[1;32m--> 707\u001b[0m \u001b[43mprinter\u001b[49m\u001b[38;5;241;43m.\u001b[39;49m\u001b[43mpretty\u001b[49m\u001b[43m(\u001b[49m\u001b[43mobj\u001b[49m\u001b[43m)\u001b[49m\n\u001b[0;32m    708\u001b[0m printer\u001b[38;5;241m.\u001b[39mflush()\n\u001b[0;32m    709\u001b[0m \u001b[38;5;28;01mreturn\u001b[39;00m stream\u001b[38;5;241m.\u001b[39mgetvalue()\n",
      "File \u001b[1;32mC:\\Code\\DataPrep\\venv\\lib\\site-packages\\IPython\\lib\\pretty.py:410\u001b[0m, in \u001b[0;36mRepresentationPrinter.pretty\u001b[1;34m(self, obj)\u001b[0m\n\u001b[0;32m    407\u001b[0m                         \u001b[38;5;28;01mreturn\u001b[39;00m meth(obj, \u001b[38;5;28mself\u001b[39m, cycle)\n\u001b[0;32m    408\u001b[0m                 \u001b[38;5;28;01mif\u001b[39;00m \u001b[38;5;28mcls\u001b[39m \u001b[38;5;129;01mis\u001b[39;00m \u001b[38;5;129;01mnot\u001b[39;00m \u001b[38;5;28mobject\u001b[39m \\\n\u001b[0;32m    409\u001b[0m                         \u001b[38;5;129;01mand\u001b[39;00m callable(\u001b[38;5;28mcls\u001b[39m\u001b[38;5;241m.\u001b[39m\u001b[38;5;18m__dict__\u001b[39m\u001b[38;5;241m.\u001b[39mget(\u001b[38;5;124m'\u001b[39m\u001b[38;5;124m__repr__\u001b[39m\u001b[38;5;124m'\u001b[39m)):\n\u001b[1;32m--> 410\u001b[0m                     \u001b[38;5;28;01mreturn\u001b[39;00m \u001b[43m_repr_pprint\u001b[49m\u001b[43m(\u001b[49m\u001b[43mobj\u001b[49m\u001b[43m,\u001b[49m\u001b[43m \u001b[49m\u001b[38;5;28;43mself\u001b[39;49m\u001b[43m,\u001b[49m\u001b[43m \u001b[49m\u001b[43mcycle\u001b[49m\u001b[43m)\u001b[49m\n\u001b[0;32m    412\u001b[0m     \u001b[38;5;28;01mreturn\u001b[39;00m _default_pprint(obj, \u001b[38;5;28mself\u001b[39m, cycle)\n\u001b[0;32m    413\u001b[0m \u001b[38;5;28;01mfinally\u001b[39;00m:\n",
      "File \u001b[1;32mC:\\Code\\DataPrep\\venv\\lib\\site-packages\\IPython\\lib\\pretty.py:778\u001b[0m, in \u001b[0;36m_repr_pprint\u001b[1;34m(obj, p, cycle)\u001b[0m\n\u001b[0;32m    776\u001b[0m \u001b[38;5;124;03m\"\"\"A pprint that just redirects to the normal repr function.\"\"\"\u001b[39;00m\n\u001b[0;32m    777\u001b[0m \u001b[38;5;66;03m# Find newlines and replace them with p.break_()\u001b[39;00m\n\u001b[1;32m--> 778\u001b[0m output \u001b[38;5;241m=\u001b[39m \u001b[38;5;28;43mrepr\u001b[39;49m\u001b[43m(\u001b[49m\u001b[43mobj\u001b[49m\u001b[43m)\u001b[49m\n\u001b[0;32m    779\u001b[0m lines \u001b[38;5;241m=\u001b[39m output\u001b[38;5;241m.\u001b[39msplitlines()\n\u001b[0;32m    780\u001b[0m \u001b[38;5;28;01mwith\u001b[39;00m p\u001b[38;5;241m.\u001b[39mgroup():\n",
      "File \u001b[1;32mC:\\Code\\dataprep\\examples\\..\\dataprep\\data_set.py:319\u001b[0m, in \u001b[0;36mDataSeries.__repr__\u001b[1;34m(self)\u001b[0m\n\u001b[0;32m    316\u001b[0m \u001b[38;5;28;01mfor\u001b[39;00m sym \u001b[38;5;129;01min\u001b[39;00m syms:\n\u001b[0;32m    317\u001b[0m     dfs[sym] \u001b[38;5;241m=\u001b[39m \u001b[38;5;28mself\u001b[39m\u001b[38;5;241m.\u001b[39mget(sym)\u001b[38;5;241m.\u001b[39mhead(\u001b[38;5;241m2\u001b[39m)\n\u001b[1;32m--> 319\u001b[0m \u001b[38;5;28;01mreturn\u001b[39;00m \u001b[38;5;124m\"\u001b[39m\u001b[38;5;130;01m\\n\u001b[39;00m\u001b[38;5;124m\"\u001b[39m \u001b[38;5;241m+\u001b[39m \u001b[38;5;28mrepr\u001b[39m(pd\u001b[38;5;241m.\u001b[39mconcat(\u001b[38;5;28;43mself\u001b[39;49m\u001b[38;5;241;43m.\u001b[39;49m\u001b[43m_pc\u001b[49m\u001b[43m(\u001b[49m\u001b[43mdfs\u001b[49m\u001b[43m)\u001b[49m))\n",
      "File \u001b[1;32mC:\\Code\\dataprep\\examples\\..\\dataprep\\data_set.py:117\u001b[0m, in \u001b[0;36m_DataBase._pc\u001b[1;34m(self, what, func)\u001b[0m\n\u001b[0;32m    115\u001b[0m \u001b[38;5;28;01mdef\u001b[39;00m \u001b[38;5;21m_pc\u001b[39m(\u001b[38;5;28mself\u001b[39m, what\u001b[38;5;241m=\u001b[39m\u001b[38;5;28;01mNone\u001b[39;00m, func\u001b[38;5;241m=\u001b[39m \u001b[38;5;28;01mNone\u001b[39;00m):\n\u001b[0;32m    116\u001b[0m     func \u001b[38;5;241m=\u001b[39m \u001b[38;5;28mself\u001b[39m\u001b[38;5;241m.\u001b[39mclient\u001b[38;5;241m.\u001b[39mcompute \u001b[38;5;28;01mif\u001b[39;00m func \u001b[38;5;129;01mis\u001b[39;00m \u001b[38;5;28;01mNone\u001b[39;00m \u001b[38;5;28;01melse\u001b[39;00m func\n\u001b[1;32m--> 117\u001b[0m     res \u001b[38;5;241m=\u001b[39m \u001b[43mfunc\u001b[49m\u001b[43m(\u001b[49m\u001b[38;5;28;43mself\u001b[39;49m\u001b[38;5;241;43m.\u001b[39;49m\u001b[43mdata\u001b[49m\u001b[43m \u001b[49m\u001b[38;5;28;43;01mif\u001b[39;49;00m\u001b[43m \u001b[49m\u001b[43mwhat\u001b[49m\u001b[43m \u001b[49m\u001b[38;5;129;43;01mis\u001b[39;49;00m\u001b[43m \u001b[49m\u001b[38;5;28;43;01mNone\u001b[39;49;00m\u001b[43m \u001b[49m\u001b[38;5;28;43;01melse\u001b[39;49;00m\u001b[43m \u001b[49m\u001b[43mwhat\u001b[49m\u001b[43m)\u001b[49m\n\u001b[0;32m    118\u001b[0m     \u001b[38;5;28;01mif\u001b[39;00m \u001b[38;5;28misinstance\u001b[39m(res, \u001b[38;5;28mtuple\u001b[39m): \u001b[38;5;28;01mreturn\u001b[39;00m res[\u001b[38;5;241m0\u001b[39m]\n\u001b[0;32m    119\u001b[0m     \u001b[38;5;28;01mreturn\u001b[39;00m res\n",
      "File \u001b[1;32mC:\\Code\\DataPrep\\venv\\lib\\site-packages\\dask\\base.py:602\u001b[0m, in \u001b[0;36mcompute\u001b[1;34m(traverse, optimize_graph, scheduler, get, *args, **kwargs)\u001b[0m\n\u001b[0;32m    599\u001b[0m     keys\u001b[38;5;241m.\u001b[39mappend(x\u001b[38;5;241m.\u001b[39m__dask_keys__())\n\u001b[0;32m    600\u001b[0m     postcomputes\u001b[38;5;241m.\u001b[39mappend(x\u001b[38;5;241m.\u001b[39m__dask_postcompute__())\n\u001b[1;32m--> 602\u001b[0m results \u001b[38;5;241m=\u001b[39m schedule(dsk, keys, \u001b[38;5;241m*\u001b[39m\u001b[38;5;241m*\u001b[39mkwargs)\n\u001b[0;32m    603\u001b[0m \u001b[38;5;28;01mreturn\u001b[39;00m repack([f(r, \u001b[38;5;241m*\u001b[39ma) \u001b[38;5;28;01mfor\u001b[39;00m r, (f, a) \u001b[38;5;129;01min\u001b[39;00m \u001b[38;5;28mzip\u001b[39m(results, postcomputes)])\n",
      "File \u001b[1;32mC:\\Code\\DataPrep\\venv\\lib\\site-packages\\dask\\threaded.py:89\u001b[0m, in \u001b[0;36mget\u001b[1;34m(dsk, keys, cache, num_workers, pool, **kwargs)\u001b[0m\n\u001b[0;32m     86\u001b[0m     \u001b[38;5;28;01melif\u001b[39;00m \u001b[38;5;28misinstance\u001b[39m(pool, multiprocessing\u001b[38;5;241m.\u001b[39mpool\u001b[38;5;241m.\u001b[39mPool):\n\u001b[0;32m     87\u001b[0m         pool \u001b[38;5;241m=\u001b[39m MultiprocessingPoolExecutor(pool)\n\u001b[1;32m---> 89\u001b[0m results \u001b[38;5;241m=\u001b[39m get_async(\n\u001b[0;32m     90\u001b[0m     pool\u001b[38;5;241m.\u001b[39msubmit,\n\u001b[0;32m     91\u001b[0m     pool\u001b[38;5;241m.\u001b[39m_max_workers,\n\u001b[0;32m     92\u001b[0m     dsk,\n\u001b[0;32m     93\u001b[0m     keys,\n\u001b[0;32m     94\u001b[0m     cache\u001b[38;5;241m=\u001b[39mcache,\n\u001b[0;32m     95\u001b[0m     get_id\u001b[38;5;241m=\u001b[39m_thread_get_id,\n\u001b[0;32m     96\u001b[0m     pack_exception\u001b[38;5;241m=\u001b[39mpack_exception,\n\u001b[0;32m     97\u001b[0m     \u001b[38;5;241m*\u001b[39m\u001b[38;5;241m*\u001b[39mkwargs,\n\u001b[0;32m     98\u001b[0m )\n\u001b[0;32m    100\u001b[0m \u001b[38;5;66;03m# Cleanup pools associated to dead threads\u001b[39;00m\n\u001b[0;32m    101\u001b[0m \u001b[38;5;28;01mwith\u001b[39;00m pools_lock:\n",
      "File \u001b[1;32mC:\\Code\\DataPrep\\venv\\lib\\site-packages\\dask\\local.py:511\u001b[0m, in \u001b[0;36mget_async\u001b[1;34m(submit, num_workers, dsk, result, cache, get_id, rerun_exceptions_locally, pack_exception, raise_exception, callbacks, dumps, loads, chunksize, **kwargs)\u001b[0m\n\u001b[0;32m    509\u001b[0m         _execute_task(task, data)  \u001b[38;5;66;03m# Re-execute locally\u001b[39;00m\n\u001b[0;32m    510\u001b[0m     \u001b[38;5;28;01melse\u001b[39;00m:\n\u001b[1;32m--> 511\u001b[0m         \u001b[43mraise_exception\u001b[49m\u001b[43m(\u001b[49m\u001b[43mexc\u001b[49m\u001b[43m,\u001b[49m\u001b[43m \u001b[49m\u001b[43mtb\u001b[49m\u001b[43m)\u001b[49m\n\u001b[0;32m    512\u001b[0m res, worker_id \u001b[38;5;241m=\u001b[39m loads(res_info)\n\u001b[0;32m    513\u001b[0m state[\u001b[38;5;124m\"\u001b[39m\u001b[38;5;124mcache\u001b[39m\u001b[38;5;124m\"\u001b[39m][key] \u001b[38;5;241m=\u001b[39m res\n",
      "File \u001b[1;32mC:\\Code\\DataPrep\\venv\\lib\\site-packages\\dask\\local.py:319\u001b[0m, in \u001b[0;36mreraise\u001b[1;34m(exc, tb)\u001b[0m\n\u001b[0;32m    317\u001b[0m \u001b[38;5;28;01mif\u001b[39;00m exc\u001b[38;5;241m.\u001b[39m__traceback__ \u001b[38;5;129;01mis\u001b[39;00m \u001b[38;5;129;01mnot\u001b[39;00m tb:\n\u001b[0;32m    318\u001b[0m     \u001b[38;5;28;01mraise\u001b[39;00m exc\u001b[38;5;241m.\u001b[39mwith_traceback(tb)\n\u001b[1;32m--> 319\u001b[0m \u001b[38;5;28;01mraise\u001b[39;00m exc\n",
      "File \u001b[1;32mC:\\Code\\DataPrep\\venv\\lib\\site-packages\\dask\\local.py:224\u001b[0m, in \u001b[0;36mexecute_task\u001b[1;34m(key, task_info, dumps, loads, get_id, pack_exception)\u001b[0m\n\u001b[0;32m    222\u001b[0m \u001b[38;5;28;01mtry\u001b[39;00m:\n\u001b[0;32m    223\u001b[0m     task, data \u001b[38;5;241m=\u001b[39m loads(task_info)\n\u001b[1;32m--> 224\u001b[0m     result \u001b[38;5;241m=\u001b[39m \u001b[43m_execute_task\u001b[49m\u001b[43m(\u001b[49m\u001b[43mtask\u001b[49m\u001b[43m,\u001b[49m\u001b[43m \u001b[49m\u001b[43mdata\u001b[49m\u001b[43m)\u001b[49m\n\u001b[0;32m    225\u001b[0m     \u001b[38;5;28mid\u001b[39m \u001b[38;5;241m=\u001b[39m get_id()\n\u001b[0;32m    226\u001b[0m     result \u001b[38;5;241m=\u001b[39m dumps((result, \u001b[38;5;28mid\u001b[39m))\n",
      "File \u001b[1;32mC:\\Code\\DataPrep\\venv\\lib\\site-packages\\dask\\core.py:119\u001b[0m, in \u001b[0;36m_execute_task\u001b[1;34m(arg, cache, dsk)\u001b[0m\n\u001b[0;32m    115\u001b[0m     func, args \u001b[38;5;241m=\u001b[39m arg[\u001b[38;5;241m0\u001b[39m], arg[\u001b[38;5;241m1\u001b[39m:]\n\u001b[0;32m    116\u001b[0m     \u001b[38;5;66;03m# Note: Don't assign the subtask results to a variable. numpy detects\u001b[39;00m\n\u001b[0;32m    117\u001b[0m     \u001b[38;5;66;03m# temporaries by their reference count and can execute certain\u001b[39;00m\n\u001b[0;32m    118\u001b[0m     \u001b[38;5;66;03m# operations in-place.\u001b[39;00m\n\u001b[1;32m--> 119\u001b[0m     \u001b[38;5;28;01mreturn\u001b[39;00m \u001b[43mfunc\u001b[49m\u001b[43m(\u001b[49m\u001b[38;5;241;43m*\u001b[39;49m\u001b[43m(\u001b[49m\u001b[43m_execute_task\u001b[49m\u001b[43m(\u001b[49m\u001b[43ma\u001b[49m\u001b[43m,\u001b[49m\u001b[43m \u001b[49m\u001b[43mcache\u001b[49m\u001b[43m)\u001b[49m\u001b[43m \u001b[49m\u001b[38;5;28;43;01mfor\u001b[39;49;00m\u001b[43m \u001b[49m\u001b[43ma\u001b[49m\u001b[43m \u001b[49m\u001b[38;5;129;43;01min\u001b[39;49;00m\u001b[43m \u001b[49m\u001b[43margs\u001b[49m\u001b[43m)\u001b[49m\u001b[43m)\u001b[49m\n\u001b[0;32m    120\u001b[0m \u001b[38;5;28;01melif\u001b[39;00m \u001b[38;5;129;01mnot\u001b[39;00m ishashable(arg):\n\u001b[0;32m    121\u001b[0m     \u001b[38;5;28;01mreturn\u001b[39;00m arg\n",
      "File \u001b[1;32mC:\\Code\\DataPrep\\venv\\lib\\site-packages\\pandas\\core\\frame.py:3511\u001b[0m, in \u001b[0;36mDataFrame.__getitem__\u001b[1;34m(self, key)\u001b[0m\n\u001b[0;32m   3509\u001b[0m     \u001b[38;5;28;01mif\u001b[39;00m is_iterator(key):\n\u001b[0;32m   3510\u001b[0m         key \u001b[38;5;241m=\u001b[39m \u001b[38;5;28mlist\u001b[39m(key)\n\u001b[1;32m-> 3511\u001b[0m     indexer \u001b[38;5;241m=\u001b[39m \u001b[38;5;28;43mself\u001b[39;49m\u001b[38;5;241;43m.\u001b[39;49m\u001b[43mcolumns\u001b[49m\u001b[38;5;241;43m.\u001b[39;49m\u001b[43m_get_indexer_strict\u001b[49m\u001b[43m(\u001b[49m\u001b[43mkey\u001b[49m\u001b[43m,\u001b[49m\u001b[43m \u001b[49m\u001b[38;5;124;43m\"\u001b[39;49m\u001b[38;5;124;43mcolumns\u001b[39;49m\u001b[38;5;124;43m\"\u001b[39;49m\u001b[43m)\u001b[49m[\u001b[38;5;241m1\u001b[39m]\n\u001b[0;32m   3513\u001b[0m \u001b[38;5;66;03m# take() does not accept boolean indexers\u001b[39;00m\n\u001b[0;32m   3514\u001b[0m \u001b[38;5;28;01mif\u001b[39;00m \u001b[38;5;28mgetattr\u001b[39m(indexer, \u001b[38;5;124m\"\u001b[39m\u001b[38;5;124mdtype\u001b[39m\u001b[38;5;124m\"\u001b[39m, \u001b[38;5;28;01mNone\u001b[39;00m) \u001b[38;5;241m==\u001b[39m \u001b[38;5;28mbool\u001b[39m:\n",
      "File \u001b[1;32mC:\\Code\\DataPrep\\venv\\lib\\site-packages\\pandas\\core\\indexes\\base.py:5782\u001b[0m, in \u001b[0;36mIndex._get_indexer_strict\u001b[1;34m(self, key, axis_name)\u001b[0m\n\u001b[0;32m   5779\u001b[0m \u001b[38;5;28;01melse\u001b[39;00m:\n\u001b[0;32m   5780\u001b[0m     keyarr, indexer, new_indexer \u001b[38;5;241m=\u001b[39m \u001b[38;5;28mself\u001b[39m\u001b[38;5;241m.\u001b[39m_reindex_non_unique(keyarr)\n\u001b[1;32m-> 5782\u001b[0m \u001b[38;5;28;43mself\u001b[39;49m\u001b[38;5;241;43m.\u001b[39;49m\u001b[43m_raise_if_missing\u001b[49m\u001b[43m(\u001b[49m\u001b[43mkeyarr\u001b[49m\u001b[43m,\u001b[49m\u001b[43m \u001b[49m\u001b[43mindexer\u001b[49m\u001b[43m,\u001b[49m\u001b[43m \u001b[49m\u001b[43maxis_name\u001b[49m\u001b[43m)\u001b[49m\n\u001b[0;32m   5784\u001b[0m keyarr \u001b[38;5;241m=\u001b[39m \u001b[38;5;28mself\u001b[39m\u001b[38;5;241m.\u001b[39mtake(indexer)\n\u001b[0;32m   5785\u001b[0m \u001b[38;5;28;01mif\u001b[39;00m \u001b[38;5;28misinstance\u001b[39m(key, Index):\n\u001b[0;32m   5786\u001b[0m     \u001b[38;5;66;03m# GH 42790 - Preserve name from an Index\u001b[39;00m\n",
      "File \u001b[1;32mC:\\Code\\DataPrep\\venv\\lib\\site-packages\\pandas\\core\\indexes\\base.py:5842\u001b[0m, in \u001b[0;36mIndex._raise_if_missing\u001b[1;34m(self, key, indexer, axis_name)\u001b[0m\n\u001b[0;32m   5840\u001b[0m     \u001b[38;5;28;01mif\u001b[39;00m use_interval_msg:\n\u001b[0;32m   5841\u001b[0m         key \u001b[38;5;241m=\u001b[39m \u001b[38;5;28mlist\u001b[39m(key)\n\u001b[1;32m-> 5842\u001b[0m     \u001b[38;5;28;01mraise\u001b[39;00m \u001b[38;5;167;01mKeyError\u001b[39;00m(\u001b[38;5;124mf\u001b[39m\u001b[38;5;124m\"\u001b[39m\u001b[38;5;124mNone of [\u001b[39m\u001b[38;5;132;01m{\u001b[39;00mkey\u001b[38;5;132;01m}\u001b[39;00m\u001b[38;5;124m] are in the [\u001b[39m\u001b[38;5;132;01m{\u001b[39;00maxis_name\u001b[38;5;132;01m}\u001b[39;00m\u001b[38;5;124m]\u001b[39m\u001b[38;5;124m\"\u001b[39m)\n\u001b[0;32m   5844\u001b[0m not_found \u001b[38;5;241m=\u001b[39m \u001b[38;5;28mlist\u001b[39m(ensure_index(key)[missing_mask\u001b[38;5;241m.\u001b[39mnonzero()[\u001b[38;5;241m0\u001b[39m]]\u001b[38;5;241m.\u001b[39munique())\n\u001b[0;32m   5845\u001b[0m \u001b[38;5;28;01mraise\u001b[39;00m \u001b[38;5;167;01mKeyError\u001b[39;00m(\u001b[38;5;124mf\u001b[39m\u001b[38;5;124m\"\u001b[39m\u001b[38;5;132;01m{\u001b[39;00mnot_found\u001b[38;5;132;01m}\u001b[39;00m\u001b[38;5;124m not in index\u001b[39m\u001b[38;5;124m\"\u001b[39m)\n",
      "\u001b[1;31mKeyError\u001b[0m: \"None of [Index(['close'], dtype='object')] are in the [columns]\""
     ]
    }
   ],
   "source": [
    "opn"
   ]
  },
  {
   "cell_type": "code",
   "execution_count": 32,
   "id": "236bbae3",
   "metadata": {},
   "outputs": [
    {
     "ename": "KeyError",
     "evalue": "\"None of [Index(['close'], dtype='object')] are in the [columns]\"",
     "output_type": "error",
     "traceback": [
      "\u001b[1;31m---------------------------------------------------------------------------\u001b[0m",
      "\u001b[1;31mKeyError\u001b[0m                                  Traceback (most recent call last)",
      "File \u001b[1;32mC:\\Code\\DataPrep\\venv\\lib\\site-packages\\IPython\\core\\formatters.py:707\u001b[0m, in \u001b[0;36mPlainTextFormatter.__call__\u001b[1;34m(self, obj)\u001b[0m\n\u001b[0;32m    700\u001b[0m stream \u001b[38;5;241m=\u001b[39m StringIO()\n\u001b[0;32m    701\u001b[0m printer \u001b[38;5;241m=\u001b[39m pretty\u001b[38;5;241m.\u001b[39mRepresentationPrinter(stream, \u001b[38;5;28mself\u001b[39m\u001b[38;5;241m.\u001b[39mverbose,\n\u001b[0;32m    702\u001b[0m     \u001b[38;5;28mself\u001b[39m\u001b[38;5;241m.\u001b[39mmax_width, \u001b[38;5;28mself\u001b[39m\u001b[38;5;241m.\u001b[39mnewline,\n\u001b[0;32m    703\u001b[0m     max_seq_length\u001b[38;5;241m=\u001b[39m\u001b[38;5;28mself\u001b[39m\u001b[38;5;241m.\u001b[39mmax_seq_length,\n\u001b[0;32m    704\u001b[0m     singleton_pprinters\u001b[38;5;241m=\u001b[39m\u001b[38;5;28mself\u001b[39m\u001b[38;5;241m.\u001b[39msingleton_printers,\n\u001b[0;32m    705\u001b[0m     type_pprinters\u001b[38;5;241m=\u001b[39m\u001b[38;5;28mself\u001b[39m\u001b[38;5;241m.\u001b[39mtype_printers,\n\u001b[0;32m    706\u001b[0m     deferred_pprinters\u001b[38;5;241m=\u001b[39m\u001b[38;5;28mself\u001b[39m\u001b[38;5;241m.\u001b[39mdeferred_printers)\n\u001b[1;32m--> 707\u001b[0m \u001b[43mprinter\u001b[49m\u001b[38;5;241;43m.\u001b[39;49m\u001b[43mpretty\u001b[49m\u001b[43m(\u001b[49m\u001b[43mobj\u001b[49m\u001b[43m)\u001b[49m\n\u001b[0;32m    708\u001b[0m printer\u001b[38;5;241m.\u001b[39mflush()\n\u001b[0;32m    709\u001b[0m \u001b[38;5;28;01mreturn\u001b[39;00m stream\u001b[38;5;241m.\u001b[39mgetvalue()\n",
      "File \u001b[1;32mC:\\Code\\DataPrep\\venv\\lib\\site-packages\\IPython\\lib\\pretty.py:410\u001b[0m, in \u001b[0;36mRepresentationPrinter.pretty\u001b[1;34m(self, obj)\u001b[0m\n\u001b[0;32m    407\u001b[0m                         \u001b[38;5;28;01mreturn\u001b[39;00m meth(obj, \u001b[38;5;28mself\u001b[39m, cycle)\n\u001b[0;32m    408\u001b[0m                 \u001b[38;5;28;01mif\u001b[39;00m \u001b[38;5;28mcls\u001b[39m \u001b[38;5;129;01mis\u001b[39;00m \u001b[38;5;129;01mnot\u001b[39;00m \u001b[38;5;28mobject\u001b[39m \\\n\u001b[0;32m    409\u001b[0m                         \u001b[38;5;129;01mand\u001b[39;00m callable(\u001b[38;5;28mcls\u001b[39m\u001b[38;5;241m.\u001b[39m\u001b[38;5;18m__dict__\u001b[39m\u001b[38;5;241m.\u001b[39mget(\u001b[38;5;124m'\u001b[39m\u001b[38;5;124m__repr__\u001b[39m\u001b[38;5;124m'\u001b[39m)):\n\u001b[1;32m--> 410\u001b[0m                     \u001b[38;5;28;01mreturn\u001b[39;00m \u001b[43m_repr_pprint\u001b[49m\u001b[43m(\u001b[49m\u001b[43mobj\u001b[49m\u001b[43m,\u001b[49m\u001b[43m \u001b[49m\u001b[38;5;28;43mself\u001b[39;49m\u001b[43m,\u001b[49m\u001b[43m \u001b[49m\u001b[43mcycle\u001b[49m\u001b[43m)\u001b[49m\n\u001b[0;32m    412\u001b[0m     \u001b[38;5;28;01mreturn\u001b[39;00m _default_pprint(obj, \u001b[38;5;28mself\u001b[39m, cycle)\n\u001b[0;32m    413\u001b[0m \u001b[38;5;28;01mfinally\u001b[39;00m:\n",
      "File \u001b[1;32mC:\\Code\\DataPrep\\venv\\lib\\site-packages\\IPython\\lib\\pretty.py:778\u001b[0m, in \u001b[0;36m_repr_pprint\u001b[1;34m(obj, p, cycle)\u001b[0m\n\u001b[0;32m    776\u001b[0m \u001b[38;5;124;03m\"\"\"A pprint that just redirects to the normal repr function.\"\"\"\u001b[39;00m\n\u001b[0;32m    777\u001b[0m \u001b[38;5;66;03m# Find newlines and replace them with p.break_()\u001b[39;00m\n\u001b[1;32m--> 778\u001b[0m output \u001b[38;5;241m=\u001b[39m \u001b[38;5;28;43mrepr\u001b[39;49m\u001b[43m(\u001b[49m\u001b[43mobj\u001b[49m\u001b[43m)\u001b[49m\n\u001b[0;32m    779\u001b[0m lines \u001b[38;5;241m=\u001b[39m output\u001b[38;5;241m.\u001b[39msplitlines()\n\u001b[0;32m    780\u001b[0m \u001b[38;5;28;01mwith\u001b[39;00m p\u001b[38;5;241m.\u001b[39mgroup():\n",
      "File \u001b[1;32mC:\\Code\\dataprep\\examples\\..\\dataprep\\data_set.py:319\u001b[0m, in \u001b[0;36mDataSeries.__repr__\u001b[1;34m(self)\u001b[0m\n\u001b[0;32m    316\u001b[0m \u001b[38;5;28;01mfor\u001b[39;00m sym \u001b[38;5;129;01min\u001b[39;00m syms:\n\u001b[0;32m    317\u001b[0m     dfs[sym] \u001b[38;5;241m=\u001b[39m \u001b[38;5;28mself\u001b[39m\u001b[38;5;241m.\u001b[39mget(sym)\u001b[38;5;241m.\u001b[39mhead(\u001b[38;5;241m2\u001b[39m)\n\u001b[1;32m--> 319\u001b[0m \u001b[38;5;28;01mreturn\u001b[39;00m \u001b[38;5;124m\"\u001b[39m\u001b[38;5;130;01m\\n\u001b[39;00m\u001b[38;5;124m\"\u001b[39m \u001b[38;5;241m+\u001b[39m \u001b[38;5;28mrepr\u001b[39m(pd\u001b[38;5;241m.\u001b[39mconcat(\u001b[38;5;28;43mself\u001b[39;49m\u001b[38;5;241;43m.\u001b[39;49m\u001b[43m_pc\u001b[49m\u001b[43m(\u001b[49m\u001b[43mdfs\u001b[49m\u001b[43m)\u001b[49m))\n",
      "File \u001b[1;32mC:\\Code\\dataprep\\examples\\..\\dataprep\\data_set.py:117\u001b[0m, in \u001b[0;36m_DataBase._pc\u001b[1;34m(self, what, func)\u001b[0m\n\u001b[0;32m    115\u001b[0m \u001b[38;5;28;01mdef\u001b[39;00m \u001b[38;5;21m_pc\u001b[39m(\u001b[38;5;28mself\u001b[39m, what\u001b[38;5;241m=\u001b[39m\u001b[38;5;28;01mNone\u001b[39;00m, func\u001b[38;5;241m=\u001b[39m \u001b[38;5;28;01mNone\u001b[39;00m):\n\u001b[0;32m    116\u001b[0m     func \u001b[38;5;241m=\u001b[39m \u001b[38;5;28mself\u001b[39m\u001b[38;5;241m.\u001b[39mclient\u001b[38;5;241m.\u001b[39mcompute \u001b[38;5;28;01mif\u001b[39;00m func \u001b[38;5;129;01mis\u001b[39;00m \u001b[38;5;28;01mNone\u001b[39;00m \u001b[38;5;28;01melse\u001b[39;00m func\n\u001b[1;32m--> 117\u001b[0m     res \u001b[38;5;241m=\u001b[39m \u001b[43mfunc\u001b[49m\u001b[43m(\u001b[49m\u001b[38;5;28;43mself\u001b[39;49m\u001b[38;5;241;43m.\u001b[39;49m\u001b[43mdata\u001b[49m\u001b[43m \u001b[49m\u001b[38;5;28;43;01mif\u001b[39;49;00m\u001b[43m \u001b[49m\u001b[43mwhat\u001b[49m\u001b[43m \u001b[49m\u001b[38;5;129;43;01mis\u001b[39;49;00m\u001b[43m \u001b[49m\u001b[38;5;28;43;01mNone\u001b[39;49;00m\u001b[43m \u001b[49m\u001b[38;5;28;43;01melse\u001b[39;49;00m\u001b[43m \u001b[49m\u001b[43mwhat\u001b[49m\u001b[43m)\u001b[49m\n\u001b[0;32m    118\u001b[0m     \u001b[38;5;28;01mif\u001b[39;00m \u001b[38;5;28misinstance\u001b[39m(res, \u001b[38;5;28mtuple\u001b[39m): \u001b[38;5;28;01mreturn\u001b[39;00m res[\u001b[38;5;241m0\u001b[39m]\n\u001b[0;32m    119\u001b[0m     \u001b[38;5;28;01mreturn\u001b[39;00m res\n",
      "File \u001b[1;32mC:\\Code\\DataPrep\\venv\\lib\\site-packages\\dask\\base.py:602\u001b[0m, in \u001b[0;36mcompute\u001b[1;34m(traverse, optimize_graph, scheduler, get, *args, **kwargs)\u001b[0m\n\u001b[0;32m    599\u001b[0m     keys\u001b[38;5;241m.\u001b[39mappend(x\u001b[38;5;241m.\u001b[39m__dask_keys__())\n\u001b[0;32m    600\u001b[0m     postcomputes\u001b[38;5;241m.\u001b[39mappend(x\u001b[38;5;241m.\u001b[39m__dask_postcompute__())\n\u001b[1;32m--> 602\u001b[0m results \u001b[38;5;241m=\u001b[39m schedule(dsk, keys, \u001b[38;5;241m*\u001b[39m\u001b[38;5;241m*\u001b[39mkwargs)\n\u001b[0;32m    603\u001b[0m \u001b[38;5;28;01mreturn\u001b[39;00m repack([f(r, \u001b[38;5;241m*\u001b[39ma) \u001b[38;5;28;01mfor\u001b[39;00m r, (f, a) \u001b[38;5;129;01min\u001b[39;00m \u001b[38;5;28mzip\u001b[39m(results, postcomputes)])\n",
      "File \u001b[1;32mC:\\Code\\DataPrep\\venv\\lib\\site-packages\\dask\\threaded.py:89\u001b[0m, in \u001b[0;36mget\u001b[1;34m(dsk, keys, cache, num_workers, pool, **kwargs)\u001b[0m\n\u001b[0;32m     86\u001b[0m     \u001b[38;5;28;01melif\u001b[39;00m \u001b[38;5;28misinstance\u001b[39m(pool, multiprocessing\u001b[38;5;241m.\u001b[39mpool\u001b[38;5;241m.\u001b[39mPool):\n\u001b[0;32m     87\u001b[0m         pool \u001b[38;5;241m=\u001b[39m MultiprocessingPoolExecutor(pool)\n\u001b[1;32m---> 89\u001b[0m results \u001b[38;5;241m=\u001b[39m get_async(\n\u001b[0;32m     90\u001b[0m     pool\u001b[38;5;241m.\u001b[39msubmit,\n\u001b[0;32m     91\u001b[0m     pool\u001b[38;5;241m.\u001b[39m_max_workers,\n\u001b[0;32m     92\u001b[0m     dsk,\n\u001b[0;32m     93\u001b[0m     keys,\n\u001b[0;32m     94\u001b[0m     cache\u001b[38;5;241m=\u001b[39mcache,\n\u001b[0;32m     95\u001b[0m     get_id\u001b[38;5;241m=\u001b[39m_thread_get_id,\n\u001b[0;32m     96\u001b[0m     pack_exception\u001b[38;5;241m=\u001b[39mpack_exception,\n\u001b[0;32m     97\u001b[0m     \u001b[38;5;241m*\u001b[39m\u001b[38;5;241m*\u001b[39mkwargs,\n\u001b[0;32m     98\u001b[0m )\n\u001b[0;32m    100\u001b[0m \u001b[38;5;66;03m# Cleanup pools associated to dead threads\u001b[39;00m\n\u001b[0;32m    101\u001b[0m \u001b[38;5;28;01mwith\u001b[39;00m pools_lock:\n",
      "File \u001b[1;32mC:\\Code\\DataPrep\\venv\\lib\\site-packages\\dask\\local.py:511\u001b[0m, in \u001b[0;36mget_async\u001b[1;34m(submit, num_workers, dsk, result, cache, get_id, rerun_exceptions_locally, pack_exception, raise_exception, callbacks, dumps, loads, chunksize, **kwargs)\u001b[0m\n\u001b[0;32m    509\u001b[0m         _execute_task(task, data)  \u001b[38;5;66;03m# Re-execute locally\u001b[39;00m\n\u001b[0;32m    510\u001b[0m     \u001b[38;5;28;01melse\u001b[39;00m:\n\u001b[1;32m--> 511\u001b[0m         \u001b[43mraise_exception\u001b[49m\u001b[43m(\u001b[49m\u001b[43mexc\u001b[49m\u001b[43m,\u001b[49m\u001b[43m \u001b[49m\u001b[43mtb\u001b[49m\u001b[43m)\u001b[49m\n\u001b[0;32m    512\u001b[0m res, worker_id \u001b[38;5;241m=\u001b[39m loads(res_info)\n\u001b[0;32m    513\u001b[0m state[\u001b[38;5;124m\"\u001b[39m\u001b[38;5;124mcache\u001b[39m\u001b[38;5;124m\"\u001b[39m][key] \u001b[38;5;241m=\u001b[39m res\n",
      "File \u001b[1;32mC:\\Code\\DataPrep\\venv\\lib\\site-packages\\dask\\local.py:319\u001b[0m, in \u001b[0;36mreraise\u001b[1;34m(exc, tb)\u001b[0m\n\u001b[0;32m    317\u001b[0m \u001b[38;5;28;01mif\u001b[39;00m exc\u001b[38;5;241m.\u001b[39m__traceback__ \u001b[38;5;129;01mis\u001b[39;00m \u001b[38;5;129;01mnot\u001b[39;00m tb:\n\u001b[0;32m    318\u001b[0m     \u001b[38;5;28;01mraise\u001b[39;00m exc\u001b[38;5;241m.\u001b[39mwith_traceback(tb)\n\u001b[1;32m--> 319\u001b[0m \u001b[38;5;28;01mraise\u001b[39;00m exc\n",
      "File \u001b[1;32mC:\\Code\\DataPrep\\venv\\lib\\site-packages\\dask\\local.py:224\u001b[0m, in \u001b[0;36mexecute_task\u001b[1;34m(key, task_info, dumps, loads, get_id, pack_exception)\u001b[0m\n\u001b[0;32m    222\u001b[0m \u001b[38;5;28;01mtry\u001b[39;00m:\n\u001b[0;32m    223\u001b[0m     task, data \u001b[38;5;241m=\u001b[39m loads(task_info)\n\u001b[1;32m--> 224\u001b[0m     result \u001b[38;5;241m=\u001b[39m \u001b[43m_execute_task\u001b[49m\u001b[43m(\u001b[49m\u001b[43mtask\u001b[49m\u001b[43m,\u001b[49m\u001b[43m \u001b[49m\u001b[43mdata\u001b[49m\u001b[43m)\u001b[49m\n\u001b[0;32m    225\u001b[0m     \u001b[38;5;28mid\u001b[39m \u001b[38;5;241m=\u001b[39m get_id()\n\u001b[0;32m    226\u001b[0m     result \u001b[38;5;241m=\u001b[39m dumps((result, \u001b[38;5;28mid\u001b[39m))\n",
      "File \u001b[1;32mC:\\Code\\DataPrep\\venv\\lib\\site-packages\\dask\\core.py:119\u001b[0m, in \u001b[0;36m_execute_task\u001b[1;34m(arg, cache, dsk)\u001b[0m\n\u001b[0;32m    115\u001b[0m     func, args \u001b[38;5;241m=\u001b[39m arg[\u001b[38;5;241m0\u001b[39m], arg[\u001b[38;5;241m1\u001b[39m:]\n\u001b[0;32m    116\u001b[0m     \u001b[38;5;66;03m# Note: Don't assign the subtask results to a variable. numpy detects\u001b[39;00m\n\u001b[0;32m    117\u001b[0m     \u001b[38;5;66;03m# temporaries by their reference count and can execute certain\u001b[39;00m\n\u001b[0;32m    118\u001b[0m     \u001b[38;5;66;03m# operations in-place.\u001b[39;00m\n\u001b[1;32m--> 119\u001b[0m     \u001b[38;5;28;01mreturn\u001b[39;00m \u001b[43mfunc\u001b[49m\u001b[43m(\u001b[49m\u001b[38;5;241;43m*\u001b[39;49m\u001b[43m(\u001b[49m\u001b[43m_execute_task\u001b[49m\u001b[43m(\u001b[49m\u001b[43ma\u001b[49m\u001b[43m,\u001b[49m\u001b[43m \u001b[49m\u001b[43mcache\u001b[49m\u001b[43m)\u001b[49m\u001b[43m \u001b[49m\u001b[38;5;28;43;01mfor\u001b[39;49;00m\u001b[43m \u001b[49m\u001b[43ma\u001b[49m\u001b[43m \u001b[49m\u001b[38;5;129;43;01min\u001b[39;49;00m\u001b[43m \u001b[49m\u001b[43margs\u001b[49m\u001b[43m)\u001b[49m\u001b[43m)\u001b[49m\n\u001b[0;32m    120\u001b[0m \u001b[38;5;28;01melif\u001b[39;00m \u001b[38;5;129;01mnot\u001b[39;00m ishashable(arg):\n\u001b[0;32m    121\u001b[0m     \u001b[38;5;28;01mreturn\u001b[39;00m arg\n",
      "File \u001b[1;32mC:\\Code\\DataPrep\\venv\\lib\\site-packages\\pandas\\core\\frame.py:3511\u001b[0m, in \u001b[0;36mDataFrame.__getitem__\u001b[1;34m(self, key)\u001b[0m\n\u001b[0;32m   3509\u001b[0m     \u001b[38;5;28;01mif\u001b[39;00m is_iterator(key):\n\u001b[0;32m   3510\u001b[0m         key \u001b[38;5;241m=\u001b[39m \u001b[38;5;28mlist\u001b[39m(key)\n\u001b[1;32m-> 3511\u001b[0m     indexer \u001b[38;5;241m=\u001b[39m \u001b[38;5;28;43mself\u001b[39;49m\u001b[38;5;241;43m.\u001b[39;49m\u001b[43mcolumns\u001b[49m\u001b[38;5;241;43m.\u001b[39;49m\u001b[43m_get_indexer_strict\u001b[49m\u001b[43m(\u001b[49m\u001b[43mkey\u001b[49m\u001b[43m,\u001b[49m\u001b[43m \u001b[49m\u001b[38;5;124;43m\"\u001b[39;49m\u001b[38;5;124;43mcolumns\u001b[39;49m\u001b[38;5;124;43m\"\u001b[39;49m\u001b[43m)\u001b[49m[\u001b[38;5;241m1\u001b[39m]\n\u001b[0;32m   3513\u001b[0m \u001b[38;5;66;03m# take() does not accept boolean indexers\u001b[39;00m\n\u001b[0;32m   3514\u001b[0m \u001b[38;5;28;01mif\u001b[39;00m \u001b[38;5;28mgetattr\u001b[39m(indexer, \u001b[38;5;124m\"\u001b[39m\u001b[38;5;124mdtype\u001b[39m\u001b[38;5;124m\"\u001b[39m, \u001b[38;5;28;01mNone\u001b[39;00m) \u001b[38;5;241m==\u001b[39m \u001b[38;5;28mbool\u001b[39m:\n",
      "File \u001b[1;32mC:\\Code\\DataPrep\\venv\\lib\\site-packages\\pandas\\core\\indexes\\base.py:5782\u001b[0m, in \u001b[0;36mIndex._get_indexer_strict\u001b[1;34m(self, key, axis_name)\u001b[0m\n\u001b[0;32m   5779\u001b[0m \u001b[38;5;28;01melse\u001b[39;00m:\n\u001b[0;32m   5780\u001b[0m     keyarr, indexer, new_indexer \u001b[38;5;241m=\u001b[39m \u001b[38;5;28mself\u001b[39m\u001b[38;5;241m.\u001b[39m_reindex_non_unique(keyarr)\n\u001b[1;32m-> 5782\u001b[0m \u001b[38;5;28;43mself\u001b[39;49m\u001b[38;5;241;43m.\u001b[39;49m\u001b[43m_raise_if_missing\u001b[49m\u001b[43m(\u001b[49m\u001b[43mkeyarr\u001b[49m\u001b[43m,\u001b[49m\u001b[43m \u001b[49m\u001b[43mindexer\u001b[49m\u001b[43m,\u001b[49m\u001b[43m \u001b[49m\u001b[43maxis_name\u001b[49m\u001b[43m)\u001b[49m\n\u001b[0;32m   5784\u001b[0m keyarr \u001b[38;5;241m=\u001b[39m \u001b[38;5;28mself\u001b[39m\u001b[38;5;241m.\u001b[39mtake(indexer)\n\u001b[0;32m   5785\u001b[0m \u001b[38;5;28;01mif\u001b[39;00m \u001b[38;5;28misinstance\u001b[39m(key, Index):\n\u001b[0;32m   5786\u001b[0m     \u001b[38;5;66;03m# GH 42790 - Preserve name from an Index\u001b[39;00m\n",
      "File \u001b[1;32mC:\\Code\\DataPrep\\venv\\lib\\site-packages\\pandas\\core\\indexes\\base.py:5842\u001b[0m, in \u001b[0;36mIndex._raise_if_missing\u001b[1;34m(self, key, indexer, axis_name)\u001b[0m\n\u001b[0;32m   5840\u001b[0m     \u001b[38;5;28;01mif\u001b[39;00m use_interval_msg:\n\u001b[0;32m   5841\u001b[0m         key \u001b[38;5;241m=\u001b[39m \u001b[38;5;28mlist\u001b[39m(key)\n\u001b[1;32m-> 5842\u001b[0m     \u001b[38;5;28;01mraise\u001b[39;00m \u001b[38;5;167;01mKeyError\u001b[39;00m(\u001b[38;5;124mf\u001b[39m\u001b[38;5;124m\"\u001b[39m\u001b[38;5;124mNone of [\u001b[39m\u001b[38;5;132;01m{\u001b[39;00mkey\u001b[38;5;132;01m}\u001b[39;00m\u001b[38;5;124m] are in the [\u001b[39m\u001b[38;5;132;01m{\u001b[39;00maxis_name\u001b[38;5;132;01m}\u001b[39;00m\u001b[38;5;124m]\u001b[39m\u001b[38;5;124m\"\u001b[39m)\n\u001b[0;32m   5844\u001b[0m not_found \u001b[38;5;241m=\u001b[39m \u001b[38;5;28mlist\u001b[39m(ensure_index(key)[missing_mask\u001b[38;5;241m.\u001b[39mnonzero()[\u001b[38;5;241m0\u001b[39m]]\u001b[38;5;241m.\u001b[39munique())\n\u001b[0;32m   5845\u001b[0m \u001b[38;5;28;01mraise\u001b[39;00m \u001b[38;5;167;01mKeyError\u001b[39;00m(\u001b[38;5;124mf\u001b[39m\u001b[38;5;124m\"\u001b[39m\u001b[38;5;132;01m{\u001b[39;00mnot_found\u001b[38;5;132;01m}\u001b[39;00m\u001b[38;5;124m not in index\u001b[39m\u001b[38;5;124m\"\u001b[39m)\n",
      "\u001b[1;31mKeyError\u001b[0m: \"None of [Index(['close'], dtype='object')] are in the [columns]\""
     ]
    }
   ],
   "source": [
    "opn"
   ]
  },
  {
   "cell_type": "code",
   "execution_count": 6,
   "id": "8b67378e",
   "metadata": {},
   "outputs": [],
   "source": [
    "d = data.apply(lambda d: d.index.dtype)"
   ]
  },
  {
   "cell_type": "code",
   "execution_count": 10,
   "id": "5328efb4",
   "metadata": {},
   "outputs": [],
   "source": [
    "dta = data.get(\"AAPL\")"
   ]
  },
  {
   "cell_type": "code",
   "execution_count": 14,
   "id": "9442aff9",
   "metadata": {},
   "outputs": [],
   "source": [
    "dta = dta.compute()"
   ]
  },
  {
   "cell_type": "code",
   "execution_count": 9,
   "id": "511c97e9",
   "metadata": {},
   "outputs": [
    {
     "data": {
      "text/plain": [
       "{'AAPL': dtype('<M8[ns]'), 'AMZN': dtype('<M8[ns]'), 'NVDA': dtype('<M8[ns]')}"
      ]
     },
     "execution_count": 9,
     "metadata": {},
     "output_type": "execute_result"
    }
   ],
   "source": [
    "d.compute()"
   ]
  },
  {
   "cell_type": "code",
   "execution_count": 8,
   "id": "4e18e97f",
   "metadata": {},
   "outputs": [
    {
     "data": {
      "text/plain": [
       "True"
      ]
     },
     "execution_count": 8,
     "metadata": {},
     "output_type": "execute_result"
    }
   ],
   "source": [
    "issubclass(data.__class__, dp.data_set._DataBase)"
   ]
  }
 ],
 "metadata": {
  "kernelspec": {
   "display_name": "dataprep_venv",
   "language": "python",
   "name": "dataprep_venv"
  },
  "language_info": {
   "codemirror_mode": {
    "name": "ipython",
    "version": 3
   },
   "file_extension": ".py",
   "mimetype": "text/x-python",
   "name": "python",
   "nbconvert_exporter": "python",
   "pygments_lexer": "ipython3",
   "version": "3.10.5"
  }
 },
 "nbformat": 4,
 "nbformat_minor": 5
}
